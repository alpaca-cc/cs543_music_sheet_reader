{
 "cells": [
  {
   "cell_type": "code",
   "execution_count": 1,
   "metadata": {},
   "outputs": [
    {
     "name": "stderr",
     "output_type": "stream",
     "text": [
      "Using TensorFlow backend.\n"
     ]
    }
   ],
   "source": [
    "from keras.datasets import mnist\n",
    "import matplotlib.pyplot as plt\n",
    "from keras.preprocessing import image\n",
    "import numpy as np\n",
    "import random\n",
    "%matplotlib inline\n",
    "import cv2\n",
    "import os"
   ]
  },
  {
   "cell_type": "code",
   "execution_count": 2,
   "metadata": {},
   "outputs": [
    {
     "name": "stdout",
     "output_type": "stream",
     "text": [
      "Downloading data from https://s3.amazonaws.com/img-datasets/mnist.npz\n",
      "11493376/11490434 [==============================] - 9s 1us/step\n"
     ]
    }
   ],
   "source": [
    "(x_train, y_train), (x_test, y_test) = mnist.load_data()"
   ]
  },
  {
   "cell_type": "code",
   "execution_count": 3,
   "metadata": {},
   "outputs": [],
   "source": [
    "def get_measure_note(thickness = 3, height = 45, width = 10):\n",
    "    measure_note = np.zeros([height,width])\n",
    "    length = random.randint(height-3,height)\n",
    "    measure_note[0:length, int(width/2):int(width/2)+thickness] = 255\n",
    "    rows,cols = measure_note.shape\n",
    "    M = cv2.getRotationMatrix2D((cols/2,rows/2),random.randint(-5,5),random.random()*0.12 + 0.95)\n",
    "    measure_note = cv2.warpAffine(measure_note,M,(cols,rows))\n",
    "    measure_note = cv2.GaussianBlur(measure_note,(3,3),0)\n",
    "    return measure_note"
   ]
  },
  {
   "cell_type": "code",
   "execution_count": 4,
   "metadata": {},
   "outputs": [],
   "source": [
    "def get_rest_bar(thickness = 3, height = 45, width = 10):\n",
    "    rest_bar = np.zeros([height,width])\n",
    "    length = random.randint(43,45)\n",
    "    rest_bar[int(height/2)-1:int(height/2)+thickness-1, 0:10 - random.randint(0,2)] = 255\n",
    "    rows,cols = rest_bar.shape\n",
    "    M = cv2.getRotationMatrix2D((cols/2,rows/2),random.randint(-4,10),random.random()*0.12 + 0.95)\n",
    "    rest_bar = cv2.warpAffine(rest_bar,M,(cols,rows))\n",
    "    rest_bar = cv2.GaussianBlur(rest_bar,(3,3),0)\n",
    "    return rest_bar"
   ]
  },
  {
   "cell_type": "code",
   "execution_count": 5,
   "metadata": {},
   "outputs": [],
   "source": [
    "def get_note(last_digit = -1, can_zero=True):\n",
    "    canvass = np.zeros([45,28])\n",
    "    index = random.randint(0,x_train.shape[0]-1)\n",
    "    while y_train[index] > 7 or y_train[index] == last_digit or (not can_zero and y_train[index] == 0):\n",
    "        index = random.randint(0,x_train.shape[0])\n",
    "    canvass[4:32,:] = x_train[index]\n",
    "    label = y_train[index]\n",
    "    level_vote = random.randint(0,2)\n",
    "    if level_vote == 0 or label == 0:\n",
    "        return canvass, label\n",
    "    \n",
    "    if level_vote == 1:\n",
    "        canvass[0:3,12:15] = 255\n",
    "        canvass[0:5,11:16] = cv2.GaussianBlur(canvass[0:5,11:16],(3,3),0)\n",
    "        return canvass, label + 10\n",
    "    \n",
    "    if level_vote == 2:\n",
    "        canvass[41:44,12:15] = 255\n",
    "        canvass[40:44,11:16] = cv2.GaussianBlur(canvass[40:44,11:16],(3,3),0)\n",
    "        return canvass, label + 20"
   ]
  },
  {
   "cell_type": "code",
   "execution_count": 6,
   "metadata": {},
   "outputs": [],
   "source": [
    "def get_box(canvass, base_coord=[0,0], show_graph = False):\n",
    "    top_boundary = 0\n",
    "    bottom_boundary = canvass.shape[0]-1\n",
    "    left_boundary = 0\n",
    "    right_boundary = canvass.shape[1]-1\n",
    "    for i in range(canvass.shape[1]):\n",
    "        for j in range(34):\n",
    "            if canvass[j][i]:\n",
    "                right_boundary = i\n",
    "                break\n",
    "                \n",
    "    for i in reversed(range(canvass.shape[1])):\n",
    "        for j in range(34):\n",
    "            if canvass[j][i]:\n",
    "                left_boundary = i\n",
    "                break\n",
    "    #canvass[top_boundary:bottom_boundary,left_boundary:left_boundary+1] = 255\n",
    "    #canvass[top_boundary:bottom_boundary,right_boundary-1:right_boundary] = 255\n",
    "    #canvass[top_boundary:top_boundary+1,left_boundary:right_boundary] = 255\n",
    "    #canvass[bottom_boundary-1:bottom_boundary,left_boundary:right_boundary] = 255\n",
    "    if show_graph:\n",
    "        plt.imshow(canvass)\n",
    "    return [top_boundary + base_coord[0], left_boundary + base_coord[1], bottom_boundary + base_coord[0], right_boundary + base_coord[1]]"
   ]
  },
  {
   "cell_type": "code",
   "execution_count": 7,
   "metadata": {},
   "outputs": [],
   "source": [
    "def get_combination(last_digit, simple_version = False):\n",
    "    #1 * 1/4, 2 * 1/8, 1 * 1/8 + 2 * 1/16,  2 * 1/16 + 1/8, 4 * 1/16 \n",
    "    index = random.randint(1,5)\n",
    "    if simple_version:\n",
    "        index = True\n",
    "    if index == 1:\n",
    "        # 1 * 1/4\n",
    "        seed = random.randint(1,2)\n",
    "        if seed == 1 and not simple_version and last_digit != -1 and last_digit != 0:\n",
    "            c = get_rest_bar()\n",
    "            return c, ['-'], [get_box(c)], last_digit\n",
    "        c, label =  get_note(last_digit=last_digit)\n",
    "        return c, [str(label) + \"_4\"], [get_box(c)], label\n",
    "    if index == 2:\n",
    "        # 2 * 1/8\n",
    "        img1, label1 = get_note(last_digit=last_digit)\n",
    "        img2, label2 = get_note(label1)\n",
    "        c = np.hstack((img1, img2))\n",
    "        c[34:36, 5:55] = 255\n",
    "        rows = 3\n",
    "        cols = 51\n",
    "        M = cv2.getRotationMatrix2D((cols/2,rows/2),random.randint(-4,4),random.random()*0.12 + 0.95)\n",
    "        c[34:37, 4:55] = cv2.warpAffine(c[34:37, 4:55],M,(cols,rows))\n",
    "        return c, [str(label1) + '_8',str(label2) + '_8'], [get_box(img1), get_box(img2,[0, img1.shape[1]])],  label2\n",
    "        \n",
    "    if index == 3:\n",
    "        #2 * 1/16 + 1/8\n",
    "        [img1, label1] = get_note(last_digit=last_digit)\n",
    "        [img2, label2] = get_note(label1)\n",
    "        [img3, label3] = get_note(label2)\n",
    "        c = np.hstack((img1, img2, img3))\n",
    "        c[33:35, 5:c.shape[1]-5] = 255\n",
    "        c[37:39, 5:52] = 255\n",
    "        rows = 8\n",
    "        cols = c.shape[1] - 9\n",
    "        M = cv2.getRotationMatrix2D((cols/2,rows/2),random.randint(1,3),1)\n",
    "        c[32:40, 4:c.shape[1]-5] = cv2.warpAffine(c[32:40, 4:c.shape[1]-5],M,(cols,rows))\n",
    "        return c, [str(label1) + '_16',str(label2) + '_16', str(label3) + '_8'],  [get_box(img1), get_box(img2,[0, img1.shape[1]]), get_box(img3,[0, img1.shape[1] + img2.shape[1]])], label3\n",
    "    \n",
    "    if index == 4:\n",
    "        #1/8 + 2 * 1/16\n",
    "        [img1, label1] = get_note(last_digit=last_digit)\n",
    "        [img2, label2] = get_note(label1)\n",
    "        [img3, label3] = get_note(label2)\n",
    "        c = np.hstack((img1, img2, img3))\n",
    "        c[33:35, 5:c.shape[1]-5] = 255\n",
    "        c[37:39, 35:c.shape[1]-5] = 255\n",
    "        rows = 8\n",
    "        cols = c.shape[1] - 9\n",
    "        M = cv2.getRotationMatrix2D((cols/2,rows/2),random.randint(1,3),1)\n",
    "        c[32:40, 4:c.shape[1]-5] = cv2.warpAffine(c[32:40, 4:c.shape[1]-5],M,(cols,rows))\n",
    "        return c, [str(label1) + '_8',str(label2) + '_16', str(label3) + '_16'],  [get_box(img1), get_box(img2,[0, img1.shape[1]]), get_box(img3,[0, img1.shape[1] + img2.shape[1]])], label3\n",
    "    if index == 5:\n",
    "        #4 * 1/16\n",
    "        [img1, label1] = get_note(last_digit=last_digit)\n",
    "        [img2, label2] = get_note(label1)\n",
    "        [img3, label3] = get_note(label2)\n",
    "        [img4, label4] = get_note(label3)\n",
    "        c = np.hstack((img1, img2, img3, img4))\n",
    "        c[33:35, 5:c.shape[1]-5] = 255\n",
    "        c[37:39, 5:c.shape[1]-5] = 255\n",
    "        rows = 8\n",
    "        cols = 102\n",
    "        M = cv2.getRotationMatrix2D((cols/2,rows/2),random.randint(-1,1),1)\n",
    "        c[31:39, 5:c.shape[1]-5] = cv2.warpAffine(c[32:39, 5:c.shape[1]-5],M,(cols,rows))\n",
    "        return c, [str(label1) + '_16',str(label2) + '_16', str(label3) + '_16', str(label4) + '_16'],  [get_box(img1), get_box(img2,[0, img1.shape[1]]), get_box(img3,[0, img1.shape[1] + img2.shape[1]]), get_box(img4, [0, img1.shape[1] + img2.shape[1] + img3.shape[1]])], label4"
   ]
  },
  {
   "cell_type": "code",
   "execution_count": 8,
   "metadata": {},
   "outputs": [],
   "source": [
    "def get_line(max_width, measure_capacity = 2, simple_version = False, try_num = 3):\n",
    "    canvass, labels, locs, last_digit = get_combination(-1, simple_version=simple_version)\n",
    "    curr_width = canvass.shape[1]\n",
    "    remained_measure = measure_capacity - 1\n",
    "    while True:\n",
    "        new_canvasses, new_labels, new_locs, last_digit = get_combination(last_digit, simple_version=simple_version)\n",
    "        for i in range(len(new_locs)):\n",
    "            new_locs[i][1] += canvass.shape[1]\n",
    "            new_locs[i][3] += canvass.shape[1]\n",
    "           \n",
    "        remained_measure = measure_capacity - 1\n",
    "        while remained_measure:\n",
    "            new_canvass, new_label, new_loc, last_digit = get_combination(last_digit, simple_version=simple_version)\n",
    "            for i in range(len(new_loc)):\n",
    "                new_loc[i][1] += new_canvasses.shape[1] + canvass.shape[1]\n",
    "                new_loc[i][3] += new_canvasses.shape[1] + canvass.shape[1]\n",
    "            new_canvasses = np.hstack((new_canvasses, new_canvass))\n",
    "            new_locs += new_loc\n",
    "            new_labels += new_label\n",
    "            remained_measure -= 1\n",
    "        \n",
    "        new_measure_note = get_measure_note()\n",
    "        new_labels += '|'\n",
    "        new_loc = get_box(new_measure_note, [0, new_canvasses.shape[1] + canvass.shape[1]])\n",
    "        new_canvasses = np.hstack((new_canvasses, new_measure_note))\n",
    "        new_locs += [new_loc]\n",
    "        if new_canvasses.shape[1] + canvass.shape[1] > max_width:\n",
    "            if try_num == 0:\n",
    "                break\n",
    "            try_num -=1\n",
    "            continue\n",
    "        canvass = np.hstack((canvass, new_canvasses))\n",
    "        labels += new_labels\n",
    "        curr_width += new_canvass.shape[1]\n",
    "        locs += new_locs\n",
    "    canvass = np.hstack((canvass, np.zeros([45, max_width - canvass.shape[1]])))\n",
    "    return canvass, locs, labels"
   ]
  },
  {
   "cell_type": "code",
   "execution_count": 9,
   "metadata": {},
   "outputs": [
    {
     "name": "stdout",
     "output_type": "stream",
     "text": [
      "[[0, 7, 44, 18], [0, 33, 44, 48], [0, 64, 44, 75], [0, 92, 44, 105], [0, 118, 44, 133], [0, 150, 44, 158], [0, 174, 44, 191], [0, 205, 44, 216], [0, 232, 44, 245], [0, 255, 44, 261], [0, 268, 44, 287], [0, 295, 44, 314], [0, 325, 44, 339], [0, 352, 44, 365], [0, 377, 44, 383]]\n",
      "['17_16', '21_16', '3_16', '21_16', '27_8', '21_16', '0_16', '26_8', '0_8', '|', '2_8', '6_8', '3_8', '7_8', '|']\n"
     ]
    },
    {
     "data": {
      "text/plain": [
       "<matplotlib.image.AxesImage at 0x10a80a4a8>"
      ]
     },
     "execution_count": 9,
     "metadata": {},
     "output_type": "execute_result"
    },
    {
     "data": {
      "image/png": "[encoded data removed]",
      "text/plain": [
       "<Figure size 432x288 with 1 Axes>"
      ]
     },
     "metadata": {},
     "output_type": "display_data"
    }
   ],
   "source": [
    "[canvass, locs, labels] = get_line(400)\n",
    "print(locs)\n",
    "print(labels)\n",
    "plt.imshow(canvass)"
   ]
  },
  {
   "cell_type": "code",
   "execution_count": 17,
   "metadata": {},
   "outputs": [],
   "source": [
    "def get_page(music_sheet_dir, label_dir, max_height, max_width, measure_capacity, inner_line_spacing = 30, show_image = True, simple_version = False):\n",
    "    canvass, locs, labels = get_line(max_width, measure_capacity, simple_version)\n",
    "    curr_height = canvass.shape[0]\n",
    "    while curr_height < max_height:\n",
    "        new_canvass1 = np.zeros([inner_line_spacing, max_width])\n",
    "        new_canvass2, new_locs, new_labels = get_line(max_width, measure_capacity, simple_version)\n",
    "        new_canvass = np.vstack((new_canvass1, new_canvass2))\n",
    "        if curr_height + new_canvass.shape[0] > max_height:\n",
    "            break\n",
    "        for i in range(len(new_locs)):\n",
    "            new_locs[i][0] += canvass.shape[0]\n",
    "            new_locs[i][2] += canvass.shape[0]\n",
    "        canvass = np.vstack((canvass, new_canvass))\n",
    "        labels += new_labels\n",
    "        locs += new_locs\n",
    "        curr_height += new_canvass.shape[0]\n",
    "    cv2.imwrite(music_sheet_dir, canvass)\n",
    "    label_array = np.column_stack([np.array(locs), np.array(labels)])\n",
    "    if show_image:\n",
    "        plt.imshow(canvass)\n",
    "    with open(label_dir, 'w') as fp:\n",
    "        for i in range(len(labels)):\n",
    "            fp.write(music_sheet_dir + ',' + ','.join(str(e) for e in locs[i]) + ',' + str(labels[i])  + '\\n')\n",
    "    #return canvass, label_array, np.array(locs)"
   ]
  },
  {
   "cell_type": "code",
   "execution_count": 29,
   "metadata": {},
   "outputs": [],
   "source": [
    "# @label_num_list: List, a list of label file number\n",
    "# @merged_file_type: String, the type of file to be merged into, will reflected on the file name\n",
    "# @label_file_dir: String, the directory where label files are stored\n",
    "# @merged_file_dir: String, the directory to store the merged file\n",
    "# e.g. ([1,3,5], \"test\", \"./label\") will merge label1.txt, label3.txt, label5.txt into \"./label/labels_test.txt\"\n",
    "def merge_label(label_num_list, label_file_dir, merged_file_type, merged_file_dir):\n",
    "    outfile = merged_file_dir + 'labels_' + merged_file_type + '.txt';\n",
    "    with open(outfile, 'w') as wfd:\n",
    "        for num in label_num_list:\n",
    "            fname = label_file_dir + 'label' + str(num) + '.txt'\n",
    "            with open(fname, 'r') as fd:\n",
    "                wfd.write(fd.read())"
   ]
  },
  {
   "cell_type": "code",
   "execution_count": 30,
   "metadata": {},
   "outputs": [],
   "source": [
    "def generate_music_sheet(num, music_sheet_dir, music_label_dir, height, width, simple_version, measure_capacity = 2):\n",
    "    curr = 0\n",
    "    if not os.path.isdir(music_sheet_dir):\n",
    "        os.makedirs(music_sheet_dir)\n",
    "    if not os.path.isdir(music_label_dir):\n",
    "        os.makedirs(music_label_dir)\n",
    "    while curr < num:\n",
    "        sheet_dir = music_sheet_dir + 'img' + str(curr) + '.png'\n",
    "        label_dir = music_label_dir + 'label' + str(curr) + '.txt'\n",
    "        get_page(sheet_dir,label_dir,height,width,measure_capacity, show_image=False, simple_version=simple_version)\n",
    "        curr += 1\n",
    "        print('Progress: ' + \"{0:.0f}%\".format(curr / num * 100) )\n",
    "    label_num_list = list(range(num))\n",
    "    merge_label(label_num_list, music_label_dir, 'training', music_label_dir)"
   ]
  },
  {
   "cell_type": "code",
   "execution_count": 31,
   "metadata": {},
   "outputs": [
    {
     "name": "stdout",
     "output_type": "stream",
     "text": [
      "Progress: 10%\n",
      "Progress: 20%\n",
      "Progress: 30%\n",
      "Progress: 40%\n",
      "Progress: 50%\n",
      "Progress: 60%\n",
      "Progress: 70%\n",
      "Progress: 80%\n",
      "Progress: 90%\n",
      "Progress: 100%\n"
     ]
    }
   ],
   "source": [
    "generate_music_sheet(10, '../dataset/sheet/training/', '../dataset/label/training/', 600, 400, True)"
   ]
  },
  {
   "cell_type": "code",
   "execution_count": null,
   "metadata": {},
   "outputs": [],
   "source": []
  }
 ],
 "metadata": {
  "kernelspec": {
   "display_name": "Python 3",
   "language": "python",
   "name": "python3"
  },
  "language_info": {
   "codemirror_mode": {
    "name": "ipython",
    "version": 3
   },
   "file_extension": ".py",
   "mimetype": "text/x-python",
   "name": "python",
   "nbconvert_exporter": "python",
   "pygments_lexer": "ipython3",
   "version": "3.5.5"
  }
 },
 "nbformat": 4,
 "nbformat_minor": 2
}

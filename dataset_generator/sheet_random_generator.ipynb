{
 "cells": [
  {
   "cell_type": "code",
   "execution_count": 1,
   "metadata": {},
   "outputs": [
    {
     "name": "stderr",
     "output_type": "stream",
     "text": [
      "/anaconda3/lib/python3.6/site-packages/h5py/__init__.py:34: FutureWarning: Conversion of the second argument of issubdtype from `float` to `np.floating` is deprecated. In future, it will be treated as `np.float64 == np.dtype(float).type`.\n",
      "  from ._conv import register_converters as _register_converters\n",
      "Using TensorFlow backend.\n"
     ]
    }
   ],
   "source": [
    "from keras.datasets import mnist\n",
    "import matplotlib.pyplot as plt\n",
    "from keras.preprocessing import image\n",
    "import numpy as np\n",
    "import random\n",
    "%matplotlib inline\n",
    "import cv2\n",
    "import os\n",
    "from subprocess import call"
   ]
  },
  {
   "cell_type": "code",
   "execution_count": 2,
   "metadata": {
    "collapsed": true
   },
   "outputs": [],
   "source": [
    "import tensorflow as tf"
   ]
  },
  {
   "cell_type": "code",
   "execution_count": 3,
   "metadata": {
    "collapsed": true
   },
   "outputs": [],
   "source": [
    "(x_train, y_train), (x_test, y_test) = mnist.load_data()"
   ]
  },
  {
   "cell_type": "code",
   "execution_count": 4,
   "metadata": {},
   "outputs": [
    {
     "data": {
      "text/plain": [
       "(60000, 28, 28)"
      ]
     },
     "execution_count": 4,
     "metadata": {},
     "output_type": "execute_result"
    }
   ],
   "source": [
    "x_train.shape"
   ]
  },
  {
   "cell_type": "code",
   "execution_count": 5,
   "metadata": {
    "collapsed": true
   },
   "outputs": [],
   "source": [
    "def get_measure_note(thickness = 3, height = 45, width = 10):\n",
    "    measure_note = np.zeros([height,width])\n",
    "    length = random.randint(height-3,height)\n",
    "    measure_note[0:length, int(width/2):int(width/2)+thickness] = 255\n",
    "    rows,cols = measure_note.shape\n",
    "    M = cv2.getRotationMatrix2D((cols/2,rows/2),random.randint(-5,5),random.random()*0.12 + 0.95)\n",
    "    measure_note = cv2.warpAffine(measure_note,M,(cols,rows))\n",
    "    measure_note = cv2.GaussianBlur(measure_note,(3,3),0)\n",
    "    return measure_note"
   ]
  },
  {
   "cell_type": "code",
   "execution_count": 6,
   "metadata": {
    "collapsed": true
   },
   "outputs": [],
   "source": [
    "def get_rest_bar(thickness = 3, height = 45, width = 10):\n",
    "    rest_bar = np.zeros([height,width])\n",
    "    length = random.randint(43,45)\n",
    "    rest_bar[int(height/2)-1:int(height/2)+thickness-1, 0:10 - random.randint(0,2)] = 255\n",
    "    rows,cols = rest_bar.shape\n",
    "    M = cv2.getRotationMatrix2D((cols/2,rows/2),random.randint(-4,10),random.random()*0.12 + 0.95)\n",
    "    rest_bar = cv2.warpAffine(rest_bar,M,(cols,rows))\n",
    "    rest_bar = cv2.GaussianBlur(rest_bar,(3,3),0)\n",
    "    return rest_bar"
   ]
  },
  {
   "cell_type": "code",
   "execution_count": 7,
   "metadata": {
    "collapsed": true
   },
   "outputs": [],
   "source": [
    "def get_note(last_digit = -1, can_zero=True):\n",
    "    canvass = np.zeros([45,28])\n",
    "    index = random.randint(0,x_train.shape[0]-1)\n",
    "    while y_train[index] > 7 or y_train[index] == last_digit or (not can_zero and y_train[index] == 0):\n",
    "        index = random.randint(0,x_train.shape[0]-1)\n",
    "    canvass[4:32,:] = x_train[index]\n",
    "    label = y_train[index]\n",
    "    level_vote = random.randint(0,2)\n",
    "    if level_vote == 0 or label == 0:\n",
    "        return canvass, label\n",
    "    \n",
    "    if level_vote == 1:\n",
    "        canvass[0:3,12:15] = 255\n",
    "        canvass[0:5,11:16] = cv2.GaussianBlur(canvass[0:5,11:16],(3,3),0)\n",
    "        return canvass, label + 10\n",
    "    \n",
    "    if level_vote == 2:\n",
    "        canvass[41:44,12:15] = 255\n",
    "        canvass[40:44,11:16] = cv2.GaussianBlur(canvass[40:44,11:16],(3,3),0)\n",
    "        return canvass, label + 20"
   ]
  },
  {
   "cell_type": "code",
   "execution_count": 8,
   "metadata": {
    "collapsed": true
   },
   "outputs": [],
   "source": [
    "def get_box(canvass, base_coord=[0,0], show_graph = False):\n",
    "    top_boundary = 0\n",
    "    bottom_boundary = canvass.shape[0]-1\n",
    "    left_boundary = 0\n",
    "    right_boundary = canvass.shape[1]-1\n",
    "    for i in range(canvass.shape[0]):\n",
    "        for j in range(canvass.shape[1]):\n",
    "            if canvass[i][j]:\n",
    "                bottom_boundary = i\n",
    "                break\n",
    "                \n",
    "    for i in reversed(range(canvass.shape[0])):\n",
    "        for j in range(canvass.shape[1]):\n",
    "            if canvass[i][j]:\n",
    "                top_boundary = i\n",
    "                break\n",
    "    for i in range(canvass.shape[1]):\n",
    "        for j in range(34):\n",
    "            if canvass[j][i]:\n",
    "                right_boundary = i\n",
    "                break\n",
    "                \n",
    "    for i in reversed(range(canvass.shape[1])):\n",
    "        for j in range(34):\n",
    "            if canvass[j][i]:\n",
    "                left_boundary = i\n",
    "                break\n",
    "    #canvass[top_boundary:bottom_boundary,left_boundary:left_boundary+1] = 255\n",
    "    #canvass[top_boundary:bottom_boundary,right_boundary-1:right_boundary] = 255\n",
    "    #canvass[top_boundary:top_boundary+1,left_boundary:right_boundary] = 255\n",
    "    #canvass[bottom_boundary-1:bottom_boundary,left_boundary:right_boundary] = 255\n",
    "    if show_graph:\n",
    "        plt.imshow(canvass)\n",
    "    return [top_boundary + base_coord[0], left_boundary + base_coord[1], bottom_boundary + base_coord[0], right_boundary + base_coord[1]]"
   ]
  },
  {
   "cell_type": "code",
   "execution_count": 9,
   "metadata": {
    "collapsed": true
   },
   "outputs": [],
   "source": [
    "def get_combination(last_digit, simple_version = False):\n",
    "    #1 * 1/4, 2 * 1/8, 1 * 1/8 + 2 * 1/16,  2 * 1/16 + 1/8, 4 * 1/16 \n",
    "    index = random.randint(1,10)\n",
    "    if simple_version:\n",
    "        index = True\n",
    "    if index <= 6:\n",
    "        # 1 * 1/4\n",
    "        seed = random.randint(1,2)\n",
    "        c, label =  get_note(last_digit=last_digit)\n",
    "        return c, [str(label) + \"_4\"], [get_box(c)], label\n",
    "    if index == 7:\n",
    "        # 2 * 1/8\n",
    "        img1, label1 = get_note(last_digit=last_digit)\n",
    "        img2, label2 = get_note(label1)\n",
    "        c = np.hstack((img1, img2))\n",
    "        c[34:36, 5:55] = 255\n",
    "        rows = 3\n",
    "        cols = 51\n",
    "        M = cv2.getRotationMatrix2D((cols/2,rows/2),random.randint(-4,4),random.random()*0.12 + 0.95)\n",
    "        c[34:37, 4:55] = cv2.warpAffine(c[34:37, 4:55],M,(cols,rows))\n",
    "        return c, [str(label1) + '_8',str(label2) + '_8'], [get_box(img1), get_box(img2,[0, img1.shape[1]])],  label2\n",
    "        \n",
    "    if index == 8:\n",
    "        #2 * 1/16 + 1/8\n",
    "        [img1, label1] = get_note(last_digit=last_digit)\n",
    "        [img2, label2] = get_note(label1)\n",
    "        [img3, label3] = get_note(label2)\n",
    "        c = np.hstack((img1, img2, img3))\n",
    "        c[33:35, 5:c.shape[1]-5] = 255\n",
    "        c[37:39, 5:52] = 255\n",
    "        rows = 8\n",
    "        cols = c.shape[1] - 9\n",
    "        M = cv2.getRotationMatrix2D((cols/2,rows/2),random.randint(1,3),1)\n",
    "        c[32:40, 4:c.shape[1]-5] = cv2.warpAffine(c[32:40, 4:c.shape[1]-5],M,(cols,rows))\n",
    "        return c, [str(label1) + '_16',str(label2) + '_16', str(label3) + '_8'],  [get_box(img1), get_box(img2,[0, img1.shape[1]]), get_box(img3,[0, img1.shape[1] + img2.shape[1]])], label3\n",
    "    \n",
    "    if index == 9:\n",
    "        #1/8 + 2 * 1/16\n",
    "        [img1, label1] = get_note(last_digit=last_digit)\n",
    "        [img2, label2] = get_note(label1)\n",
    "        [img3, label3] = get_note(label2)\n",
    "        c = np.hstack((img1, img2, img3))\n",
    "        c[33:35, 5:c.shape[1]-5] = 255\n",
    "        c[37:39, 35:c.shape[1]-5] = 255\n",
    "        rows = 8\n",
    "        cols = c.shape[1] - 9\n",
    "        M = cv2.getRotationMatrix2D((cols/2,rows/2),random.randint(1,3),1)\n",
    "        c[32:40, 4:c.shape[1]-5] = cv2.warpAffine(c[32:40, 4:c.shape[1]-5],M,(cols,rows))\n",
    "        return c, [str(label1) + '_8',str(label2) + '_16', str(label3) + '_16'],  [get_box(img1), get_box(img2,[0, img1.shape[1]]), get_box(img3,[0, img1.shape[1] + img2.shape[1]])], label3\n",
    "    if index == 10:\n",
    "        #4 * 1/16\n",
    "        [img1, label1] = get_note(last_digit=last_digit)\n",
    "        [img2, label2] = get_note(label1)\n",
    "        [img3, label3] = get_note(label2)\n",
    "        [img4, label4] = get_note(label3)\n",
    "        c = np.hstack((img1, img2, img3, img4))\n",
    "        c[33:35, 5:c.shape[1]-5] = 255\n",
    "        c[37:39, 5:c.shape[1]-5] = 255\n",
    "        rows = 8\n",
    "        cols = 102\n",
    "        M = cv2.getRotationMatrix2D((cols/2,rows/2),random.randint(-1,1),1)\n",
    "        c[31:39, 5:c.shape[1]-5] = cv2.warpAffine(c[32:39, 5:c.shape[1]-5],M,(cols,rows))\n",
    "        return c, [str(label1) + '_16',str(label2) + '_16', str(label3) + '_16', str(label4) + '_16'],  [get_box(img1), get_box(img2,[0, img1.shape[1]]), get_box(img3,[0, img1.shape[1] + img2.shape[1]]), get_box(img4, [0, img1.shape[1] + img2.shape[1] + img3.shape[1]])], label4"
   ]
  },
  {
   "cell_type": "code",
   "execution_count": 25,
   "metadata": {
    "collapsed": true
   },
   "outputs": [],
   "source": [
    "def get_line(max_width, measure_capacity = 2, simple_version = False, try_num = 3, padding = 50):\n",
    "    canvass = np.zeros([45, padding])\n",
    "    labels = []\n",
    "    last_digit = -1\n",
    "    locs = []\n",
    "    curr_width = canvass.shape[1]\n",
    "    while True:\n",
    "        new_canvasses, new_labels, new_locs, last_digit = get_combination(last_digit, simple_version=simple_version)\n",
    "        for i in range(len(new_locs)):\n",
    "            new_locs[i][1] += canvass.shape[1]\n",
    "            new_locs[i][3] += canvass.shape[1]\n",
    "           \n",
    "        remained_measure = measure_capacity - 1\n",
    "        while remained_measure:\n",
    "            new_canvass, new_label, new_loc, last_digit = get_combination(last_digit, simple_version=simple_version)\n",
    "            for i in range(len(new_loc)):\n",
    "                new_loc[i][1] += new_canvasses.shape[1] + canvass.shape[1]\n",
    "                new_loc[i][3] += new_canvasses.shape[1] + canvass.shape[1]\n",
    "            new_canvasses = np.hstack((new_canvasses, new_canvass))\n",
    "            new_locs += new_loc\n",
    "            new_labels += new_label\n",
    "            remained_measure -= 1\n",
    "        \n",
    "        #new_measure_note = get_measure_note()\n",
    "        #new_labels += '|'\n",
    "        #new_loc = get_box(new_measure_note, [0, new_canvasses.shape[1] + canvass.shape[1]])\n",
    "        #new_canvasses = np.hstack((new_canvasses, new_measure_note))\n",
    "        #new_locs += [new_loc]\n",
    "        if new_canvasses.shape[1] + canvass.shape[1] > max_width:\n",
    "            if try_num == 0:\n",
    "                break\n",
    "            try_num -=1\n",
    "            continue\n",
    "        canvass = np.hstack((canvass, new_canvasses))\n",
    "        labels += new_labels\n",
    "        curr_width += new_canvass.shape[1]\n",
    "        locs += new_locs\n",
    "    canvass = np.hstack((canvass, np.zeros([45, max_width - canvass.shape[1]])))\n",
    "    return canvass, locs, labels"
   ]
  },
  {
   "cell_type": "code",
   "execution_count": 26,
   "metadata": {},
   "outputs": [
    {
     "name": "stdout",
     "output_type": "stream",
     "text": [
      "[[10, 54, 27, 73], [0, 82, 28, 101], [7, 115, 26, 128], [0, 142, 28, 155], [0, 167, 26, 184], [11, 198, 43, 217], [9, 222, 43, 240], [0, 252, 28, 265], [8, 278, 27, 297], [9, 311, 43, 324], [10, 335, 27, 354], [9, 366, 28, 377]]\n",
      "['0_4', '13_16', '6_16', '14_16', '12_16', '25_4', '25_4', '13_4', '0_16', '25_16', '0_16', '1_16']\n"
     ]
    },
    {
     "data": {
      "text/plain": [
       "<matplotlib.image.AxesImage at 0x182b916dd8>"
      ]
     },
     "execution_count": 26,
     "metadata": {},
     "output_type": "execute_result"
    },
    {
     "data": {
      "image/png": "[encoded data removed]",
      "text/plain": [
       "<matplotlib.figure.Figure at 0x182c326710>"
      ]
     },
     "metadata": {},
     "output_type": "display_data"
    }
   ],
   "source": [
    "[canvass, locs, labels] = get_line(400)\n",
    "print(locs)\n",
    "print(labels)\n",
    "plt.imshow(canvass)"
   ]
  },
  {
   "cell_type": "code",
   "execution_count": 27,
   "metadata": {
    "collapsed": true
   },
   "outputs": [],
   "source": [
    "def get_page(music_sheet_dir, label_dir, max_height, max_width, measure_capacity, padding = 30, inner_line_spacing = 60, show_image = True, simple_version = False, save=False):\n",
    "    canvass = np.zeros([padding, max_width])\n",
    "    locs = []\n",
    "    labels = []\n",
    "    curr_height = canvass.shape[0]\n",
    "    while curr_height < max_height:\n",
    "        new_canvass1 = np.zeros([inner_line_spacing, max_width])\n",
    "        new_canvass2, new_locs, new_labels = get_line(max_width, measure_capacity, simple_version, padding=padding)\n",
    "        new_canvass = np.vstack((new_canvass1, new_canvass2))\n",
    "        if curr_height + new_canvass.shape[0] + padding > max_height:\n",
    "            break\n",
    "        for i in range(len(new_locs)):\n",
    "            new_locs[i][0] += canvass.shape[0] + inner_line_spacing\n",
    "            new_locs[i][2] += canvass.shape[0] + inner_line_spacing\n",
    "        canvass = np.vstack((canvass, new_canvass))\n",
    "        labels += new_labels\n",
    "        locs += new_locs\n",
    "        curr_height += new_canvass.shape[0] + inner_line_spacing\n",
    "    canvass = np.vstack((canvass, np.zeros([max_height - canvass.shape[0], max_width])))\n",
    "    if save:\n",
    "        cv2.imwrite(music_sheet_dir, canvass)\n",
    "    label_array = np.column_stack([np.array(locs), np.array(labels)])\n",
    "    if show_image:      \n",
    "        plt.imshow(canvass)\n",
    "        \n",
    "    if save:\n",
    "        with open(label_dir, 'a+') as fp:\n",
    "            for i in range(len(labels)):\n",
    "                fp.write(music_sheet_dir + ',' + ','.join(str(e) for e in locs[i]) + ',' + str(labels[i])  + '\\n')\n",
    "    return canvass, labels, locs"
   ]
  },
  {
   "cell_type": "code",
   "execution_count": 28,
   "metadata": {},
   "outputs": [
    {
     "name": "stdout",
     "output_type": "stream",
     "text": [
      "[[99, 35, 133, 54], [98, 61, 117, 80], [90, 96, 118, 105], [99, 125, 118, 134], [99, 147, 114, 166], [90, 171, 121, 190], [99, 207, 133, 218], [98, 232, 133, 251], [203, 38, 222, 51], [195, 66, 222, 79], [204, 94, 223, 107], [203, 117, 238, 136], [205, 151, 224, 162], [205, 176, 224, 195], [195, 202, 226, 219], [201, 232, 238, 248], [306, 35, 343, 52], [307, 66, 343, 79], [308, 91, 327, 107], [300, 117, 328, 136], [307, 150, 343, 162], [306, 177, 325, 192], [300, 202, 326, 219], [309, 233, 328, 250], [300, 261, 325, 276]]\n"
     ]
    },
    {
     "data": {
      "image/png": "[encoded data removed]",
      "text/plain": [
       "<matplotlib.figure.Figure at 0x182c672860>"
      ]
     },
     "metadata": {},
     "output_type": "display_data"
    }
   ],
   "source": [
    "canvass, labels, locs = get_page('sheet.png', 'label.txt', 500, 300, 2)\n",
    "print(locs)"
   ]
  },
  {
   "cell_type": "code",
   "execution_count": 29,
   "metadata": {
    "collapsed": true
   },
   "outputs": [],
   "source": [
    "def generate_music_sheet(num, music_sheet_dir, music_label_dir, height, width, inner_line_spacing, padding, simple_version, measure_capacity = 2):\n",
    "    curr = 0\n",
    "    call([\"rm\", \"-rf\", music_sheet_dir])\n",
    "    call([\"rm\", \"-rf\", music_label_dir])\n",
    "    if not os.path.isdir(music_sheet_dir):\n",
    "        \n",
    "        os.makedirs(music_sheet_dir)\n",
    "    if not os.path.isdir(music_label_dir):\n",
    "        \n",
    "        os.makedirs(music_label_dir)\n",
    "    while curr < num:\n",
    "        sheet_dir = music_sheet_dir + 'img' + str(curr) + '.png'\n",
    "        label_dir = music_label_dir + 'label' + str(curr) + '.txt'\n",
    "        get_page(sheet_dir,label_dir,height,width,measure_capacity, show_image=False, simple_version=simple_version)\n",
    "        curr += 1\n",
    "        print('Progress: ' + \"{0:.0f}%\".format(curr / num * 100) )"
   ]
  },
  {
   "cell_type": "raw",
   "metadata": {},
   "source": [
    "generate_music_sheet(100, '../dataset/sheet/training/', '../dataset/label/training/', 600, 400, 30, 30, False)"
   ]
  },
  {
   "cell_type": "code",
   "execution_count": 30,
   "metadata": {},
   "outputs": [
    {
     "name": "stdout",
     "output_type": "stream",
     "text": [
      "10579\n",
      "10579\n"
     ]
    },
    {
     "data": {
      "image/png": "[encoded data removed]",
      "text/plain": [
       "<matplotlib.figure.Figure at 0x182d17eda0>"
      ]
     },
     "metadata": {},
     "output_type": "display_data"
    }
   ],
   "source": [
    "def roi_pooling(canvass, locs, normalized_size = (28,28)):\n",
    "    global_count = 0\n",
    "    res = []\n",
    "    img_root_dir = '../dataset/sheet/training/img'\n",
    "    for loc in locs:\n",
    "        img_dir= img_root_dir + str(global_count) + '.png'\n",
    "        normalized_image = cv2.resize(canvass[loc[0]:loc[2], loc[1]:loc[3]], normalized_size)\n",
    "        res.append(normalized_image)\n",
    "        cv2.imwrite(img_dir, normalized_image)\n",
    "        global_count += 1\n",
    "    return res\n",
    "canvass, labels, locs = get_page('sheet.png', 'label.txt', 10000, 5000, 2, simple_version = False)\n",
    "print(len(locs))\n",
    "normalized_imgs = roi_pooling(canvass, locs)\n",
    "print(len(labels))"
   ]
  },
  {
   "cell_type": "raw",
   "metadata": {},
   "source": [
    "import pickle\n",
    "import sklearn\n",
    "from keras.utils import np_utils\n",
    "pickle.dump(labels, open('../dataset/label/training/total.txt', \"wb\"))"
   ]
  },
  {
   "cell_type": "raw",
   "metadata": {},
   "source": [
    "b = pickle.load(open('../dataset/label/training/total.txt', \"rb\"))"
   ]
  },
  {
   "cell_type": "code",
   "execution_count": 31,
   "metadata": {
    "collapsed": true
   },
   "outputs": [],
   "source": [
    "from keras.utils import to_categorical\n",
    "from keras.utils import np_utils\n",
    "from sklearn.preprocessing import LabelEncoder\n",
    "from keras.optimizers import Adagrad\n",
    "import keras\n",
    "from keras import Sequential\n",
    "from keras.layers import Conv2D\n",
    "from keras.layers import MaxPooling2D\n",
    "from keras.layers import Flatten\n",
    "from keras.layers import Dense\n",
    "from keras.layers import Dropout\n",
    "from keras.layers import BatchNormalization"
   ]
  },
  {
   "cell_type": "code",
   "execution_count": 32,
   "metadata": {
    "collapsed": true
   },
   "outputs": [],
   "source": [
    "train_ratio = 0.9\n",
    "normalized_imgs = np.array(normalized_imgs)\n",
    "train_img = normalized_imgs[:int(train_ratio*len(normalized_imgs)), :, :]\n",
    "test_img = normalized_imgs[int(train_ratio*len(normalized_imgs)):, :, :]\n",
    "train_y = np.array(labels[:int(train_ratio*len(normalized_imgs))])\n",
    "test_y = np.array(labels[int(train_ratio*len(normalized_imgs)):])\n",
    "train_img = np.expand_dims(train_img, axis=3)\n",
    "test_img = np.expand_dims(test_img, axis=3)"
   ]
  },
  {
   "cell_type": "code",
   "execution_count": 33,
   "metadata": {},
   "outputs": [],
   "source": [
    "encoder = LabelEncoder()\n",
    "encoder.fit(labels)\n",
    "train_y_encoded = encoder.transform(train_y)\n",
    "test_y_encoded = encoder.transform(test_y)\n",
    "train_y_encoded_cat = np_utils.to_categorical(train_y_encoded)\n",
    "test_y_encoded_cat = np_utils.to_categorical(test_y_encoded)"
   ]
  },
  {
   "cell_type": "code",
   "execution_count": 34,
   "metadata": {},
   "outputs": [],
   "source": [
    "class AccuracyHistory(keras.callbacks.Callback):\n",
    "    def on_train_begin(self, logs={}):\n",
    "        self.acc = []\n",
    "\n",
    "    def on_epoch_end(self, batch, logs={}):\n",
    "        self.acc.append(logs.get('acc'))"
   ]
  },
  {
   "cell_type": "code",
   "execution_count": 35,
   "metadata": {
    "collapsed": true
   },
   "outputs": [],
   "source": [
    "history = AccuracyHistory()"
   ]
  },
  {
   "cell_type": "code",
   "execution_count": 36,
   "metadata": {},
   "outputs": [],
   "source": [
    "label_count = {}\n",
    "for label in labels:\n",
    "    if not label in label_count:\n",
    "        label_count[label] = 0\n",
    "    label_count[label] +=1"
   ]
  },
  {
   "cell_type": "code",
   "execution_count": 37,
   "metadata": {},
   "outputs": [
    {
     "data": {
      "text/plain": [
       "{'13_4': 135,\n",
       " '27_4': 156,\n",
       " '11_8': 117,\n",
       " '15_8': 108,\n",
       " '17_8': 97,\n",
       " '21_16': 210,\n",
       " '7_16': 209,\n",
       " '23_16': 176,\n",
       " '23_8': 91,\n",
       " '25_8': 82,\n",
       " '7_8': 111,\n",
       " '0_16': 535,\n",
       " '16_16': 208,\n",
       " '15_16': 199,\n",
       " '27_16': 212,\n",
       " '1_16': 218,\n",
       " '25_16': 179,\n",
       " '14_16': 192,\n",
       " '16_8': 97,\n",
       " '5_4': 135,\n",
       " '26_8': 98,\n",
       " '11_4': 178,\n",
       " '0_4': 417,\n",
       " '25_4': 134,\n",
       " '16_4': 151,\n",
       " '22_8': 90,\n",
       " '1_8': 110,\n",
       " '12_16': 190,\n",
       " '2_4': 150,\n",
       " '15_4': 162,\n",
       " '22_16': 199,\n",
       " '17_16': 203,\n",
       " '13_16': 207,\n",
       " '11_16': 219,\n",
       " '27_8': 103,\n",
       " '24_16': 176,\n",
       " '1_4': 170,\n",
       " '23_4': 145,\n",
       " '13_8': 94,\n",
       " '14_4': 133,\n",
       " '0_8': 268,\n",
       " '21_8': 105,\n",
       " '7_4': 164,\n",
       " '5_16': 172,\n",
       " '24_4': 157,\n",
       " '6_16': 213,\n",
       " '3_16': 182,\n",
       " '4_16': 180,\n",
       " '21_4': 156,\n",
       " '2_16': 177,\n",
       " '4_4': 136,\n",
       " '12_8': 97,\n",
       " '3_8': 94,\n",
       " '6_8': 110,\n",
       " '22_4': 161,\n",
       " '26_4': 141,\n",
       " '12_4': 141,\n",
       " '6_4': 153,\n",
       " '14_8': 107,\n",
       " '2_8': 84,\n",
       " '4_8': 97,\n",
       " '3_4': 165,\n",
       " '26_16': 178,\n",
       " '5_8': 87,\n",
       " '17_4': 150,\n",
       " '24_8': 108}"
      ]
     },
     "execution_count": 37,
     "metadata": {},
     "output_type": "execute_result"
    }
   ],
   "source": [
    "label_count"
   ]
  },
  {
   "cell_type": "code",
   "execution_count": 38,
   "metadata": {},
   "outputs": [
    {
     "data": {
      "text/plain": [
       "['0_16',\n",
       " '0_4',\n",
       " '0_8',\n",
       " '11_16',\n",
       " '11_4',\n",
       " '11_8',\n",
       " '12_16',\n",
       " '12_4',\n",
       " '12_8',\n",
       " '13_16',\n",
       " '13_4',\n",
       " '13_8',\n",
       " '14_16',\n",
       " '14_4',\n",
       " '14_8',\n",
       " '15_16',\n",
       " '15_4',\n",
       " '15_8',\n",
       " '16_16',\n",
       " '16_4',\n",
       " '16_8',\n",
       " '17_16',\n",
       " '17_4',\n",
       " '17_8',\n",
       " '1_16',\n",
       " '1_4',\n",
       " '1_8',\n",
       " '21_16',\n",
       " '21_4',\n",
       " '21_8',\n",
       " '22_16',\n",
       " '22_4',\n",
       " '22_8',\n",
       " '23_16',\n",
       " '23_4',\n",
       " '23_8',\n",
       " '24_16',\n",
       " '24_4',\n",
       " '24_8',\n",
       " '25_16',\n",
       " '25_4',\n",
       " '25_8',\n",
       " '26_16',\n",
       " '26_4',\n",
       " '26_8',\n",
       " '27_16',\n",
       " '27_4',\n",
       " '27_8',\n",
       " '2_16',\n",
       " '2_4',\n",
       " '2_8',\n",
       " '3_16',\n",
       " '3_4',\n",
       " '3_8',\n",
       " '4_16',\n",
       " '4_4',\n",
       " '4_8',\n",
       " '5_16',\n",
       " '5_4',\n",
       " '5_8',\n",
       " '6_16',\n",
       " '6_4',\n",
       " '6_8',\n",
       " '7_16',\n",
       " '7_4',\n",
       " '7_8']"
      ]
     },
     "execution_count": 38,
     "metadata": {},
     "output_type": "execute_result"
    }
   ],
   "source": [
    "list(encoder.classes_)"
   ]
  },
  {
   "cell_type": "code",
   "execution_count": 39,
   "metadata": {},
   "outputs": [
    {
     "data": {
      "text/plain": [
       "array([ 0,  1,  2,  3,  4,  5,  6,  7,  8,  9, 10, 11, 12, 13, 14, 15, 16,\n",
       "       17, 18, 19, 20, 21, 22, 23, 24, 25, 26, 27, 28, 29, 30, 31, 32, 33,\n",
       "       34, 35, 36, 37, 38, 39, 40, 41, 42, 43, 44, 45, 46, 47, 48, 49, 50,\n",
       "       51, 52, 53, 54, 55, 56, 57, 58, 59, 60, 61, 62, 63, 64, 65])"
      ]
     },
     "execution_count": 39,
     "metadata": {},
     "output_type": "execute_result"
    }
   ],
   "source": [
    "encoder.transform(list(encoder.classes_))"
   ]
  },
  {
   "cell_type": "code",
   "execution_count": 40,
   "metadata": {},
   "outputs": [],
   "source": [
    "model = Sequential()\n",
    "model.add(Conv2D(32, kernel_size=(5, 5), strides=(1, 1), activation='relu', input_shape=(28, 28, 1)))\n",
    "model.add(MaxPooling2D(pool_size=(2, 2), strides=(2, 2)))\n",
    "model.add(BatchNormalization())\n",
    "model.add(Conv2D(64, (5, 5), activation='relu'))\n",
    "model.add(MaxPooling2D(pool_size=(2, 2)))\n",
    "model.add(BatchNormalization())\n",
    "model.add(Flatten())\n",
    "model.add(Dense(1000, activation='relu'))\n",
    "model.add(BatchNormalization())\n",
    "model.add(Dropout(rate=0.5))\n",
    "model.add(Dense(test_y_encoded_cat.shape[1], activation='softmax'))"
   ]
  },
  {
   "cell_type": "code",
   "execution_count": 41,
   "metadata": {
    "collapsed": true
   },
   "outputs": [],
   "source": [
    "model.compile(loss=keras.losses.categorical_crossentropy,\n",
    "              optimizer=Adagrad(lr=0.001),\n",
    "              metrics=['accuracy'])"
   ]
  },
  {
   "cell_type": "code",
   "execution_count": null,
   "metadata": {},
   "outputs": [
    {
     "name": "stdout",
     "output_type": "stream",
     "text": [
      "Train on 9521 samples, validate on 1058 samples\n",
      "Epoch 1/20\n",
      "9521/9521 [==============================] - 11s 1ms/step - loss: 2.3840 - acc: 0.3484 - val_loss: 1.4187 - val_acc: 0.4858\n",
      "Epoch 2/20\n",
      "9521/9521 [==============================] - 12s 1ms/step - loss: 1.5806 - acc: 0.4783 - val_loss: 1.2844 - val_acc: 0.4981\n",
      "Epoch 3/20\n",
      "9521/9521 [==============================] - 11s 1ms/step - loss: 1.3896 - acc: 0.5214 - val_loss: 1.2268 - val_acc: 0.5047\n",
      "Epoch 4/20\n",
      "9521/9521 [==============================] - 12s 1ms/step - loss: 1.2960 - acc: 0.5388 - val_loss: 1.2027 - val_acc: 0.5076\n",
      "Epoch 5/20\n",
      "9521/9521 [==============================] - 11s 1ms/step - loss: 1.2002 - acc: 0.5638 - val_loss: 1.1713 - val_acc: 0.5189\n",
      "Epoch 6/20\n",
      "9521/9521 [==============================] - 11s 1ms/step - loss: 1.1783 - acc: 0.5673 - val_loss: 1.1687 - val_acc: 0.5085\n",
      "Epoch 7/20\n",
      "9521/9521 [==============================] - 11s 1ms/step - loss: 1.1391 - acc: 0.5761 - val_loss: 1.1565 - val_acc: 0.5265\n",
      "Epoch 8/20\n",
      "9521/9521 [==============================] - 11s 1ms/step - loss: 1.0838 - acc: 0.5940 - val_loss: 1.1440 - val_acc: 0.5227\n",
      "Epoch 9/20\n",
      "9521/9521 [==============================] - 11s 1ms/step - loss: 1.0458 - acc: 0.5989 - val_loss: 1.1377 - val_acc: 0.5302\n",
      "Epoch 10/20\n",
      "9521/9521 [==============================] - 11s 1ms/step - loss: 1.0253 - acc: 0.6078 - val_loss: 1.1277 - val_acc: 0.5340\n",
      "Epoch 11/20\n",
      "3800/9521 [==========>...................] - ETA: 6s - loss: 0.9768 - acc: 0.6216"
     ]
    }
   ],
   "source": [
    "model.fit(train_img, train_y_encoded_cat,\n",
    "          batch_size=50,\n",
    "          epochs=20,\n",
    "          verbose=1,\n",
    "          validation_data=(test_img, test_y_encoded_cat))"
   ]
  },
  {
   "cell_type": "code",
   "execution_count": 86,
   "metadata": {},
   "outputs": [
    {
     "name": "stdout",
     "output_type": "stream",
     "text": [
      "Test loss: 0.7263115182134058\n",
      "Test accuracy: 0.71365313670732\n"
     ]
    }
   ],
   "source": [
    "score = model.evaluate(test_img, test_y_encoded_cat, verbose=0)\n",
    "print('Test loss:', score[0])\n",
    "print('Test accuracy:', score[1])"
   ]
  },
  {
   "cell_type": "code",
   "execution_count": 87,
   "metadata": {
    "collapsed": true
   },
   "outputs": [],
   "source": [
    "pred = model.predict_classes(test_img)"
   ]
  },
  {
   "cell_type": "code",
   "execution_count": 88,
   "metadata": {},
   "outputs": [
    {
     "data": {
      "text/plain": [
       "0.7136531365313653"
      ]
     },
     "execution_count": 88,
     "metadata": {},
     "output_type": "execute_result"
    }
   ],
   "source": [
    "np.sum(test_y_encoded == pred) / len(test_img)"
   ]
  },
  {
   "cell_type": "code",
   "execution_count": 89,
   "metadata": {},
   "outputs": [
    {
     "name": "stdout",
     "output_type": "stream",
     "text": [
      "_________________________________________________________________\n",
      "Layer (type)                 Output Shape              Param #   \n",
      "=================================================================\n",
      "conv2d_9 (Conv2D)            (None, 24, 24, 32)        832       \n",
      "_________________________________________________________________\n",
      "max_pooling2d_9 (MaxPooling2 (None, 12, 12, 32)        0         \n",
      "_________________________________________________________________\n",
      "batch_normalization_4 (Batch (None, 12, 12, 32)        128       \n",
      "_________________________________________________________________\n",
      "conv2d_10 (Conv2D)           (None, 8, 8, 64)          51264     \n",
      "_________________________________________________________________\n",
      "max_pooling2d_10 (MaxPooling (None, 4, 4, 64)          0         \n",
      "_________________________________________________________________\n",
      "batch_normalization_5 (Batch (None, 4, 4, 64)          256       \n",
      "_________________________________________________________________\n",
      "flatten_5 (Flatten)          (None, 1024)              0         \n",
      "_________________________________________________________________\n",
      "dense_9 (Dense)              (None, 1000)              1025000   \n",
      "_________________________________________________________________\n",
      "batch_normalization_6 (Batch (None, 1000)              4000      \n",
      "_________________________________________________________________\n",
      "dropout_3 (Dropout)          (None, 1000)              0         \n",
      "_________________________________________________________________\n",
      "dense_10 (Dense)             (None, 68)                68068     \n",
      "=================================================================\n",
      "Total params: 1,149,548\n",
      "Trainable params: 1,147,356\n",
      "Non-trainable params: 2,192\n",
      "_________________________________________________________________\n"
     ]
    }
   ],
   "source": [
    "model.summary()"
   ]
  },
  {
   "cell_type": "code",
   "execution_count": 90,
   "metadata": {},
   "outputs": [
    {
     "name": "stderr",
     "output_type": "stream",
     "text": [
      "WARNING:root:Keras version 2.1.4 detected. Last version known to be fully compatible of Keras is 2.1.3 .\n",
      "WARNING:root:TensorFlow version 1.8.0 detected. Last version known to be fully compatible is 1.5.0 .\n"
     ]
    }
   ],
   "source": [
    "import coremltools"
   ]
  },
  {
   "cell_type": "code",
   "execution_count": 91,
   "metadata": {
    "collapsed": true
   },
   "outputs": [],
   "source": [
    "def convert_model(model):\n",
    "\tprint('converting...')\n",
    "\tcoreml_model = coremltools.converters.keras.convert(model,input_names=['image'],image_input_names='image')\n",
    "\tcoreml_model.author = 'YUAN SHEN'\n",
    "\tcoreml_model.license = 'MIT'\n",
    "\tcoreml_model.short_description = 'Reads a handwritten music note.'\n",
    "\tcoreml_model.input_description['image'] = 'A 28x28 pixel Image'\n",
    "\tcoreml_model.output_description['output1'] = 'A one-hot Multiarray of the music note class '\n",
    "\tcoreml_model.save('MusicNoteClassification.mlmodel')\n",
    "\tprint('model converted')"
   ]
  },
  {
   "cell_type": "code",
   "execution_count": 92,
   "metadata": {},
   "outputs": [
    {
     "name": "stdout",
     "output_type": "stream",
     "text": [
      "converting...\n",
      "0 : conv2d_9_input, <keras.engine.topology.InputLayer object at 0x1828b13f98>\n",
      "1 : conv2d_9, <keras.layers.convolutional.Conv2D object at 0x1828b13f28>\n",
      "2 : conv2d_9__activation__, <keras.layers.core.Activation object at 0x182f4ccd68>\n",
      "3 : max_pooling2d_9, <keras.layers.pooling.MaxPooling2D object at 0x1828b2d080>\n",
      "4 : batch_normalization_4, <keras.layers.normalization.BatchNormalization object at 0x1828b2d048>\n",
      "5 : conv2d_10, <keras.layers.convolutional.Conv2D object at 0x1828b2db70>\n",
      "6 : conv2d_10__activation__, <keras.layers.core.Activation object at 0x182f4ccda0>\n",
      "7 : max_pooling2d_10, <keras.layers.pooling.MaxPooling2D object at 0x1829f4c6d8>\n",
      "8 : batch_normalization_5, <keras.layers.normalization.BatchNormalization object at 0x1828affba8>\n",
      "9 : flatten_5, <keras.layers.core.Flatten object at 0x1829f33860>\n",
      "10 : dense_9, <keras.layers.core.Dense object at 0x1829f33a20>\n",
      "11 : dense_9__activation__, <keras.layers.core.Activation object at 0x182f4ccdd8>\n",
      "12 : batch_normalization_6, <keras.layers.normalization.BatchNormalization object at 0x1828948908>\n",
      "13 : dense_10, <keras.layers.core.Dense object at 0x182899a400>\n",
      "14 : dense_10__activation__, <keras.layers.core.Activation object at 0x182f5151d0>\n",
      "model converted\n"
     ]
    }
   ],
   "source": [
    "convert_model(model)"
   ]
  },
  {
   "cell_type": "code",
   "execution_count": 96,
   "metadata": {},
   "outputs": [
    {
     "data": {
      "text/plain": [
       "<matplotlib.image.AxesImage at 0x18342ff2e8>"
      ]
     },
     "execution_count": 96,
     "metadata": {},
     "output_type": "execute_result"
    },
    {
     "data": {
      "image/png": "[encoded data removed]",
      "text/plain": [
       "<matplotlib.figure.Figure at 0x182a974048>"
      ]
     },
     "metadata": {},
     "output_type": "display_data"
    }
   ],
   "source": [
    "[canvass, locs, labels] = get_line(300,padding=0,)\n",
    "plt.imshow(canvass)"
   ]
  },
  {
   "cell_type": "code",
   "execution_count": 105,
   "metadata": {},
   "outputs": [
    {
     "data": {
      "text/plain": [
       "[<matplotlib.lines.Line2D at 0x18270f9240>]"
      ]
     },
     "execution_count": 105,
     "metadata": {},
     "output_type": "execute_result"
    },
    {
     "data": {
      "image/png": "[encoded data removed]",
      "text/plain": [
       "<matplotlib.figure.Figure at 0x18342e2e80>"
      ]
     },
     "metadata": {},
     "output_type": "display_data"
    }
   ],
   "source": [
    "plt.plot(np.sum(canvass,axis=0))"
   ]
  },
  {
   "cell_type": "code",
   "execution_count": 102,
   "metadata": {},
   "outputs": [
    {
     "data": {
      "text/plain": [
       "(45, 300)"
      ]
     },
     "execution_count": 102,
     "metadata": {},
     "output_type": "execute_result"
    }
   ],
   "source": [
    "canvass.shape"
   ]
  },
  {
   "cell_type": "code",
   "execution_count": null,
   "metadata": {
    "collapsed": true
   },
   "outputs": [],
   "source": [
    "plt.p"
   ]
  }
 ],
 "metadata": {
  "kernelspec": {
   "display_name": "Python 3",
   "language": "python",
   "name": "python3"
  },
  "language_info": {
   "codemirror_mode": {
    "name": "ipython",
    "version": 3
   },
   "file_extension": ".py",
   "mimetype": "text/x-python",
   "name": "python",
   "nbconvert_exporter": "python",
   "pygments_lexer": "ipython3",
   "version": "3.6.3"
  }
 },
 "nbformat": 4,
 "nbformat_minor": 2
}

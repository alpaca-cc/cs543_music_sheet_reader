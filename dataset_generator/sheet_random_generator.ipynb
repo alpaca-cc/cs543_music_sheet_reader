{
 "cells": [
  {
   "cell_type": "code",
   "execution_count": 1,
   "metadata": {},
   "outputs": [
    {
     "name": "stderr",
     "output_type": "stream",
     "text": [
      "/anaconda3/lib/python3.6/site-packages/h5py/__init__.py:34: FutureWarning: Conversion of the second argument of issubdtype from `float` to `np.floating` is deprecated. In future, it will be treated as `np.float64 == np.dtype(float).type`.\n",
      "  from ._conv import register_converters as _register_converters\n",
      "Using TensorFlow backend.\n"
     ]
    }
   ],
   "source": [
    "from keras.datasets import mnist\n",
    "import matplotlib.pyplot as plt\n",
    "from keras.preprocessing import image\n",
    "import numpy as np\n",
    "import random\n",
    "%matplotlib inline\n",
    "import cv2\n",
    "import os\n",
    "from subprocess import call"
   ]
  },
  {
   "cell_type": "code",
   "execution_count": 76,
   "metadata": {
    "collapsed": true
   },
   "outputs": [],
   "source": [
    "import tensorflow as tf"
   ]
  },
  {
   "cell_type": "code",
   "execution_count": 2,
   "metadata": {
    "collapsed": true
   },
   "outputs": [],
   "source": [
    "(x_train, y_train), (x_test, y_test) = mnist.load_data()"
   ]
  },
  {
   "cell_type": "code",
   "execution_count": 3,
   "metadata": {},
   "outputs": [
    {
     "data": {
      "text/plain": [
       "(60000, 28, 28)"
      ]
     },
     "execution_count": 3,
     "metadata": {},
     "output_type": "execute_result"
    }
   ],
   "source": [
    "x_train.shape"
   ]
  },
  {
   "cell_type": "code",
   "execution_count": 4,
   "metadata": {
    "collapsed": true
   },
   "outputs": [],
   "source": [
    "def get_measure_note(thickness = 3, height = 45, width = 10):\n",
    "    measure_note = np.zeros([height,width])\n",
    "    length = random.randint(height-3,height)\n",
    "    measure_note[0:length, int(width/2):int(width/2)+thickness] = 255\n",
    "    rows,cols = measure_note.shape\n",
    "    M = cv2.getRotationMatrix2D((cols/2,rows/2),random.randint(-5,5),random.random()*0.12 + 0.95)\n",
    "    measure_note = cv2.warpAffine(measure_note,M,(cols,rows))\n",
    "    measure_note = cv2.GaussianBlur(measure_note,(3,3),0)\n",
    "    return measure_note"
   ]
  },
  {
   "cell_type": "code",
   "execution_count": 5,
   "metadata": {
    "collapsed": true
   },
   "outputs": [],
   "source": [
    "def get_rest_bar(thickness = 3, height = 45, width = 10):\n",
    "    rest_bar = np.zeros([height,width])\n",
    "    length = random.randint(43,45)\n",
    "    rest_bar[int(height/2)-1:int(height/2)+thickness-1, 0:10 - random.randint(0,2)] = 255\n",
    "    rows,cols = rest_bar.shape\n",
    "    M = cv2.getRotationMatrix2D((cols/2,rows/2),random.randint(-4,10),random.random()*0.12 + 0.95)\n",
    "    rest_bar = cv2.warpAffine(rest_bar,M,(cols,rows))\n",
    "    rest_bar = cv2.GaussianBlur(rest_bar,(3,3),0)\n",
    "    return rest_bar"
   ]
  },
  {
   "cell_type": "code",
   "execution_count": 6,
   "metadata": {
    "collapsed": true
   },
   "outputs": [],
   "source": [
    "def get_note(last_digit = -1, can_zero=True):\n",
    "    canvass = np.zeros([45,28])\n",
    "    index = random.randint(0,x_train.shape[0]-1)\n",
    "    while y_train[index] > 7 or y_train[index] == last_digit or (not can_zero and y_train[index] == 0):\n",
    "        index = random.randint(0,x_train.shape[0]-1)\n",
    "    canvass[4:32,:] = x_train[index]\n",
    "    label = y_train[index]\n",
    "    level_vote = random.randint(0,2)\n",
    "    if level_vote == 0 or label == 0:\n",
    "        return canvass, label\n",
    "    \n",
    "    if level_vote == 1:\n",
    "        canvass[0:3,12:15] = 255\n",
    "        canvass[0:5,11:16] = cv2.GaussianBlur(canvass[0:5,11:16],(3,3),0)\n",
    "        return canvass, label + 10\n",
    "    \n",
    "    if level_vote == 2:\n",
    "        canvass[41:44,12:15] = 255\n",
    "        canvass[40:44,11:16] = cv2.GaussianBlur(canvass[40:44,11:16],(3,3),0)\n",
    "        return canvass, label + 20"
   ]
  },
  {
   "cell_type": "code",
   "execution_count": 22,
   "metadata": {
    "collapsed": true
   },
   "outputs": [],
   "source": [
    "def get_box(canvass, base_coord=[0,0], show_graph = False):\n",
    "    top_boundary = 0\n",
    "    bottom_boundary = canvass.shape[0]-1\n",
    "    left_boundary = 0\n",
    "    right_boundary = canvass.shape[1]-1\n",
    "    for i in range(canvass.shape[0]):\n",
    "        for j in range(canvass.shape[1]):\n",
    "            if canvass[i][j]:\n",
    "                bottom_boundary = i\n",
    "                break\n",
    "                \n",
    "    for i in reversed(range(canvass.shape[0])):\n",
    "        for j in range(canvass.shape[1]):\n",
    "            if canvass[i][j]:\n",
    "                top_boundary = i\n",
    "                break\n",
    "    for i in range(canvass.shape[1]):\n",
    "        for j in range(34):\n",
    "            if canvass[j][i]:\n",
    "                right_boundary = i\n",
    "                break\n",
    "                \n",
    "    for i in reversed(range(canvass.shape[1])):\n",
    "        for j in range(34):\n",
    "            if canvass[j][i]:\n",
    "                left_boundary = i\n",
    "                break\n",
    "    #canvass[top_boundary:bottom_boundary,left_boundary:left_boundary+1] = 255\n",
    "    #canvass[top_boundary:bottom_boundary,right_boundary-1:right_boundary] = 255\n",
    "    #canvass[top_boundary:top_boundary+1,left_boundary:right_boundary] = 255\n",
    "    #canvass[bottom_boundary-1:bottom_boundary,left_boundary:right_boundary] = 255\n",
    "    if show_graph:\n",
    "        plt.imshow(canvass)\n",
    "    return [top_boundary + base_coord[0], left_boundary + base_coord[1], bottom_boundary + base_coord[0], right_boundary + base_coord[1]]"
   ]
  },
  {
   "cell_type": "code",
   "execution_count": 23,
   "metadata": {
    "collapsed": true
   },
   "outputs": [],
   "source": [
    "def get_combination(last_digit, simple_version = False):\n",
    "    #1 * 1/4, 2 * 1/8, 1 * 1/8 + 2 * 1/16,  2 * 1/16 + 1/8, 4 * 1/16 \n",
    "    index = random.randint(1,5)\n",
    "    if simple_version:\n",
    "        index = True\n",
    "    if index == 1:\n",
    "        # 1 * 1/4\n",
    "        seed = random.randint(1,2)\n",
    "        if seed == 1 and not simple_version and last_digit != -1 and last_digit != 0:\n",
    "            c = get_rest_bar()\n",
    "            return c, ['-'], [get_box(c)], last_digit\n",
    "        c, label =  get_note(last_digit=last_digit)\n",
    "        return c, [str(label) + \"_4\"], [get_box(c)], label\n",
    "    if index == 2:\n",
    "        # 2 * 1/8\n",
    "        img1, label1 = get_note(last_digit=last_digit)\n",
    "        img2, label2 = get_note(label1)\n",
    "        c = np.hstack((img1, img2))\n",
    "        c[34:36, 5:55] = 255\n",
    "        rows = 3\n",
    "        cols = 51\n",
    "        M = cv2.getRotationMatrix2D((cols/2,rows/2),random.randint(-4,4),random.random()*0.12 + 0.95)\n",
    "        c[34:37, 4:55] = cv2.warpAffine(c[34:37, 4:55],M,(cols,rows))\n",
    "        return c, [str(label1) + '_8',str(label2) + '_8'], [get_box(img1), get_box(img2,[0, img1.shape[1]])],  label2\n",
    "        \n",
    "    if index == 3:\n",
    "        #2 * 1/16 + 1/8\n",
    "        [img1, label1] = get_note(last_digit=last_digit)\n",
    "        [img2, label2] = get_note(label1)\n",
    "        [img3, label3] = get_note(label2)\n",
    "        c = np.hstack((img1, img2, img3))\n",
    "        c[33:35, 5:c.shape[1]-5] = 255\n",
    "        c[37:39, 5:52] = 255\n",
    "        rows = 8\n",
    "        cols = c.shape[1] - 9\n",
    "        M = cv2.getRotationMatrix2D((cols/2,rows/2),random.randint(1,3),1)\n",
    "        c[32:40, 4:c.shape[1]-5] = cv2.warpAffine(c[32:40, 4:c.shape[1]-5],M,(cols,rows))\n",
    "        return c, [str(label1) + '_16',str(label2) + '_16', str(label3) + '_8'],  [get_box(img1), get_box(img2,[0, img1.shape[1]]), get_box(img3,[0, img1.shape[1] + img2.shape[1]])], label3\n",
    "    \n",
    "    if index == 4:\n",
    "        #1/8 + 2 * 1/16\n",
    "        [img1, label1] = get_note(last_digit=last_digit)\n",
    "        [img2, label2] = get_note(label1)\n",
    "        [img3, label3] = get_note(label2)\n",
    "        c = np.hstack((img1, img2, img3))\n",
    "        c[33:35, 5:c.shape[1]-5] = 255\n",
    "        c[37:39, 35:c.shape[1]-5] = 255\n",
    "        rows = 8\n",
    "        cols = c.shape[1] - 9\n",
    "        M = cv2.getRotationMatrix2D((cols/2,rows/2),random.randint(1,3),1)\n",
    "        c[32:40, 4:c.shape[1]-5] = cv2.warpAffine(c[32:40, 4:c.shape[1]-5],M,(cols,rows))\n",
    "        return c, [str(label1) + '_8',str(label2) + '_16', str(label3) + '_16'],  [get_box(img1), get_box(img2,[0, img1.shape[1]]), get_box(img3,[0, img1.shape[1] + img2.shape[1]])], label3\n",
    "    if index == 5:\n",
    "        #4 * 1/16\n",
    "        [img1, label1] = get_note(last_digit=last_digit)\n",
    "        [img2, label2] = get_note(label1)\n",
    "        [img3, label3] = get_note(label2)\n",
    "        [img4, label4] = get_note(label3)\n",
    "        c = np.hstack((img1, img2, img3, img4))\n",
    "        c[33:35, 5:c.shape[1]-5] = 255\n",
    "        c[37:39, 5:c.shape[1]-5] = 255\n",
    "        rows = 8\n",
    "        cols = 102\n",
    "        M = cv2.getRotationMatrix2D((cols/2,rows/2),random.randint(-1,1),1)\n",
    "        c[31:39, 5:c.shape[1]-5] = cv2.warpAffine(c[32:39, 5:c.shape[1]-5],M,(cols,rows))\n",
    "        return c, [str(label1) + '_16',str(label2) + '_16', str(label3) + '_16', str(label4) + '_16'],  [get_box(img1), get_box(img2,[0, img1.shape[1]]), get_box(img3,[0, img1.shape[1] + img2.shape[1]]), get_box(img4, [0, img1.shape[1] + img2.shape[1] + img3.shape[1]])], label4"
   ]
  },
  {
   "cell_type": "code",
   "execution_count": 24,
   "metadata": {
    "collapsed": true
   },
   "outputs": [],
   "source": [
    "def get_line(max_width, measure_capacity = 2, simple_version = False, try_num = 3, padding = 50):\n",
    "    canvass = np.zeros([45, padding])\n",
    "    labels = []\n",
    "    last_digit = -1\n",
    "    locs = []\n",
    "    curr_width = canvass.shape[1]\n",
    "    while True:\n",
    "        new_canvasses, new_labels, new_locs, last_digit = get_combination(last_digit, simple_version=simple_version)\n",
    "        for i in range(len(new_locs)):\n",
    "            new_locs[i][1] += canvass.shape[1]\n",
    "            new_locs[i][3] += canvass.shape[1]\n",
    "           \n",
    "        remained_measure = measure_capacity - 1\n",
    "        while remained_measure:\n",
    "            new_canvass, new_label, new_loc, last_digit = get_combination(last_digit, simple_version=simple_version)\n",
    "            for i in range(len(new_loc)):\n",
    "                new_loc[i][1] += new_canvasses.shape[1] + canvass.shape[1]\n",
    "                new_loc[i][3] += new_canvasses.shape[1] + canvass.shape[1]\n",
    "            new_canvasses = np.hstack((new_canvasses, new_canvass))\n",
    "            new_locs += new_loc\n",
    "            new_labels += new_label\n",
    "            remained_measure -= 1\n",
    "        \n",
    "        new_measure_note = get_measure_note()\n",
    "        new_labels += '|'\n",
    "        new_loc = get_box(new_measure_note, [0, new_canvasses.shape[1] + canvass.shape[1]])\n",
    "        new_canvasses = np.hstack((new_canvasses, new_measure_note))\n",
    "        new_locs += [new_loc]\n",
    "        if new_canvasses.shape[1] + canvass.shape[1] > max_width:\n",
    "            if try_num == 0:\n",
    "                break\n",
    "            try_num -=1\n",
    "            continue\n",
    "        canvass = np.hstack((canvass, new_canvasses))\n",
    "        labels += new_labels\n",
    "        curr_width += new_canvass.shape[1]\n",
    "        locs += new_locs\n",
    "    canvass = np.hstack((canvass, np.zeros([45, max_width - canvass.shape[1]])))\n",
    "    return canvass, locs, labels"
   ]
  },
  {
   "cell_type": "code",
   "execution_count": 25,
   "metadata": {},
   "outputs": [
    {
     "name": "stdout",
     "output_type": "stream",
     "text": [
      "[[8, 54, 27, 73], [8, 85, 43, 100], [12, 108, 31, 127], [19, 134, 25, 143], [0, 146, 44, 153], [8, 165, 27, 170], [10, 188, 29, 205], [8, 212, 27, 231], [0, 246, 30, 257], [0, 268, 44, 275], [19, 276, 25, 285], [8, 291, 27, 310], [6, 321, 43, 336], [8, 346, 27, 365], [0, 373, 42, 379]]\n",
      "['0_16', '22_16', '7_8', '-', '|', '1_4', '7_16', '3_16', '17_8', '|', '-', '0_8', '26_16', '3_16', '|']\n"
     ]
    },
    {
     "data": {
      "text/plain": [
       "<matplotlib.image.AxesImage at 0x182b34f2b0>"
      ]
     },
     "execution_count": 25,
     "metadata": {},
     "output_type": "execute_result"
    },
    {
     "data": {
      "image/png": "[encoded data removed]",
      "text/plain": [
       "<matplotlib.figure.Figure at 0x182b2e4550>"
      ]
     },
     "metadata": {},
     "output_type": "display_data"
    }
   ],
   "source": [
    "[canvass, locs, labels] = get_line(400)\n",
    "print(locs)\n",
    "print(labels)\n",
    "plt.imshow(canvass)"
   ]
  },
  {
   "cell_type": "code",
   "execution_count": 45,
   "metadata": {
    "collapsed": true
   },
   "outputs": [],
   "source": [
    "def get_page(music_sheet_dir, label_dir, max_height, max_width, measure_capacity, padding = 30, inner_line_spacing = 60, show_image = True, simple_version = False, save=False):\n",
    "    canvass = np.zeros([padding, max_width])\n",
    "    locs = []\n",
    "    labels = []\n",
    "    curr_height = canvass.shape[0]\n",
    "    while curr_height < max_height:\n",
    "        new_canvass1 = np.zeros([inner_line_spacing, max_width])\n",
    "        new_canvass2, new_locs, new_labels = get_line(max_width, measure_capacity, simple_version, padding=padding)\n",
    "        new_canvass = np.vstack((new_canvass1, new_canvass2))\n",
    "        if curr_height + new_canvass.shape[0] + padding > max_height:\n",
    "            break\n",
    "        for i in range(len(new_locs)):\n",
    "            new_locs[i][0] += canvass.shape[0] + inner_line_spacing\n",
    "            new_locs[i][2] += canvass.shape[0] + inner_line_spacing\n",
    "        canvass = np.vstack((canvass, new_canvass))\n",
    "        labels += new_labels\n",
    "        locs += new_locs\n",
    "        curr_height += new_canvass.shape[0] + inner_line_spacing\n",
    "    canvass = np.vstack((canvass, np.zeros([max_height - canvass.shape[0], max_width])))\n",
    "    if save:\n",
    "        cv2.imwrite(music_sheet_dir, canvass)\n",
    "    label_array = np.column_stack([np.array(locs), np.array(labels)])\n",
    "    if show_image:      \n",
    "        plt.imshow(canvass)\n",
    "        \n",
    "    if save:\n",
    "        with open(label_dir, 'a+') as fp:\n",
    "            for i in range(len(labels)):\n",
    "                fp.write(music_sheet_dir + ',' + ','.join(str(e) for e in locs[i]) + ',' + str(labels[i])  + '\\n')\n",
    "    return canvass, labels, locs"
   ]
  },
  {
   "cell_type": "code",
   "execution_count": 46,
   "metadata": {},
   "outputs": [
    {
     "name": "stdout",
     "output_type": "stream",
     "text": [
      "[[100, 35, 133, 54], [90, 61, 118, 78], [90, 89, 134, 95], [100, 100, 119, 119], [90, 132, 117, 147], [90, 159, 116, 172], [101, 188, 120, 201], [90, 215, 118, 230], [90, 240, 133, 244], [101, 253, 133, 268], [109, 274, 115, 283], [90, 287, 134, 293], [195, 39, 222, 48], [203, 63, 222, 80], [206, 93, 238, 112], [203, 120, 222, 138], [195, 148, 223, 165], [204, 175, 223, 194], [195, 201, 237, 207], [309, 35, 343, 52], [311, 67, 343, 80], [310, 91, 343, 104], [309, 121, 328, 136], [300, 149, 327, 164], [308, 175, 343, 192], [306, 206, 343, 220], [308, 233, 327, 247], [300, 257, 344, 263]]\n"
     ]
    },
    {
     "data": {
      "image/png": "[encoded data removed]",
      "text/plain": [
       "<matplotlib.figure.Figure at 0x182cd6e0f0>"
      ]
     },
     "metadata": {},
     "output_type": "display_data"
    }
   ],
   "source": [
    "canvass, labels, locs = get_page('sheet.png', 'label.txt', 500, 300, 2)\n",
    "print(locs)"
   ]
  },
  {
   "cell_type": "code",
   "execution_count": 47,
   "metadata": {
    "collapsed": true
   },
   "outputs": [],
   "source": [
    "def generate_music_sheet(num, music_sheet_dir, music_label_dir, height, width, inner_line_spacing, padding, simple_version, measure_capacity = 2):\n",
    "    curr = 0\n",
    "    call([\"rm\", \"-rf\", music_sheet_dir])\n",
    "    call([\"rm\", \"-rf\", music_label_dir])\n",
    "    if not os.path.isdir(music_sheet_dir):\n",
    "        \n",
    "        os.makedirs(music_sheet_dir)\n",
    "    if not os.path.isdir(music_label_dir):\n",
    "        \n",
    "        os.makedirs(music_label_dir)\n",
    "    while curr < num:\n",
    "        sheet_dir = music_sheet_dir + 'img' + str(curr) + '.png'\n",
    "        label_dir = music_label_dir + 'label' + str(curr) + '.txt'\n",
    "        get_page(sheet_dir,label_dir,height,width,measure_capacity, show_image=False, simple_version=simple_version)\n",
    "        curr += 1\n",
    "        print('Progress: ' + \"{0:.0f}%\".format(curr / num * 100) )"
   ]
  },
  {
   "cell_type": "raw",
   "metadata": {},
   "source": [
    "generate_music_sheet(100, '../dataset/sheet/training/', '../dataset/label/training/', 600, 400, 30, 30, False)"
   ]
  },
  {
   "cell_type": "code",
   "execution_count": 290,
   "metadata": {},
   "outputs": [
    {
     "name": "stdout",
     "output_type": "stream",
     "text": [
      "13500\n",
      "13500\n"
     ]
    },
    {
     "data": {
      "image/png": "[encoded data removed]",
      "text/plain": [
       "<matplotlib.figure.Figure at 0x183267d0b8>"
      ]
     },
     "metadata": {},
     "output_type": "display_data"
    }
   ],
   "source": [
    "def roi_pooling(canvass, locs, normalized_size = (28,28)):\n",
    "    global_count = 0\n",
    "    res = []\n",
    "    img_root_dir = '../dataset/sheet/training/img'\n",
    "    for loc in locs:\n",
    "        img_dir= img_root_dir + str(global_count) + '.png'\n",
    "        normalized_image = cv2.resize(canvass[loc[0]:loc[2], loc[1]:loc[3]], normalized_size)\n",
    "        res.append(normalized_image)\n",
    "        cv2.imwrite(img_dir, normalized_image)\n",
    "        global_count += 1\n",
    "    return res\n",
    "canvass, labels, locs = get_page('sheet.png', 'label.txt', 10000, 5000, 2, simple_version = True)\n",
    "print(len(locs))\n",
    "normalized_imgs = roi_pooling(canvass, locs)\n",
    "print(len(labels))"
   ]
  },
  {
   "cell_type": "raw",
   "metadata": {},
   "source": [
    "import pickle\n",
    "import sklearn\n",
    "from keras.utils import np_utils\n",
    "pickle.dump(labels, open('../dataset/label/training/total.txt', \"wb\"))"
   ]
  },
  {
   "cell_type": "raw",
   "metadata": {},
   "source": [
    "b = pickle.load(open('../dataset/label/training/total.txt', \"rb\"))"
   ]
  },
  {
   "cell_type": "code",
   "execution_count": 291,
   "metadata": {},
   "outputs": [],
   "source": [
    "train_ratio = 0.9\n",
    "normalized_imgs = np.array(normalized_imgs)\n",
    "train_img = normalized_imgs[:int(train_ratio*len(normalized_imgs)), :, :]\n",
    "test_img = normalized_imgs[int(train_ratio*len(normalized_imgs)):, :, :]\n",
    "train_y = np.array(labels[:int(train_ratio*len(normalized_imgs))])\n",
    "test_y = np.array(labels[int(train_ratio*len(normalized_imgs)):])\n",
    "train_img = np.expand_dims(train_img, axis=3)\n",
    "test_img = np.expand_dims(test_img, axis=3)"
   ]
  },
  {
   "cell_type": "code",
   "execution_count": 292,
   "metadata": {
    "collapsed": true
   },
   "outputs": [],
   "source": [
    "from keras.utils import to_categorical\n",
    "from sklearn.preprocessing import LabelEncoder"
   ]
  },
  {
   "cell_type": "code",
   "execution_count": 316,
   "metadata": {},
   "outputs": [],
   "source": [
    "encoder = LabelEncoder()\n",
    "encoder.fit(labels)\n",
    "train_y_encoded = encoder.transform(train_y)\n",
    "test_y_encoded = encoder.transform(test_y)\n",
    "train_y_encoded_cat = np_utils.to_categorical(train_y_encoded)\n",
    "test_y_encoded_cat = np_utils.to_categorical(test_y_encoded)"
   ]
  },
  {
   "cell_type": "code",
   "execution_count": 294,
   "metadata": {
    "collapsed": true
   },
   "outputs": [],
   "source": [
    "class AccuracyHistory(keras.callbacks.Callback):\n",
    "    def on_train_begin(self, logs={}):\n",
    "        self.acc = []\n",
    "\n",
    "    def on_epoch_end(self, batch, logs={}):\n",
    "        self.acc.append(logs.get('acc'))"
   ]
  },
  {
   "cell_type": "code",
   "execution_count": 295,
   "metadata": {
    "collapsed": true
   },
   "outputs": [],
   "source": [
    "history = AccuracyHistory()"
   ]
  },
  {
   "cell_type": "code",
   "execution_count": 296,
   "metadata": {},
   "outputs": [
    {
     "data": {
      "text/plain": [
       "(1350, 23)"
      ]
     },
     "execution_count": 296,
     "metadata": {},
     "output_type": "execute_result"
    }
   ],
   "source": [
    "test_y_encoded.shape"
   ]
  },
  {
   "cell_type": "code",
   "execution_count": 297,
   "metadata": {},
   "outputs": [],
   "source": [
    "from keras.optimizers import Adagrad\n",
    "import keras\n",
    "from keras import Sequential\n",
    "from keras.layers import Conv2D\n",
    "from keras.layers import MaxPooling2D\n",
    "from keras.layers import Flatten\n",
    "from keras.layers import Dense"
   ]
  },
  {
   "cell_type": "code",
   "execution_count": 298,
   "metadata": {},
   "outputs": [],
   "source": [
    "model = Sequential()\n",
    "model.add(Conv2D(32, kernel_size=(5, 5), strides=(1, 1), activation='relu', input_shape=(28, 28, 1)))\n",
    "model.add(MaxPooling2D(pool_size=(2, 2), strides=(2, 2)))\n",
    "model.add(Conv2D(64, (5, 5), activation='relu'))\n",
    "model.add(MaxPooling2D(pool_size=(2, 2)))\n",
    "model.add(Flatten())\n",
    "model.add(Dense(1000, activation='relu'))\n",
    "model.add(Dense(test_y_encoded.shape[1], activation='softmax'))"
   ]
  },
  {
   "cell_type": "code",
   "execution_count": 299,
   "metadata": {},
   "outputs": [],
   "source": [
    "model.compile(loss=keras.losses.categorical_crossentropy,\n",
    "              optimizer=Adagrad(lr=0.0001),\n",
    "              metrics=['accuracy'])"
   ]
  },
  {
   "cell_type": "code",
   "execution_count": 301,
   "metadata": {},
   "outputs": [
    {
     "name": "stdout",
     "output_type": "stream",
     "text": [
      "Train on 12150 samples, validate on 1350 samples\n",
      "Epoch 1/30\n",
      "12150/12150 [==============================] - 9s 776us/step - loss: 1.9470 - acc: 0.8403 - val_loss: 2.1067 - val_acc: 0.8193\n",
      "Epoch 2/30\n",
      "12150/12150 [==============================] - 10s 829us/step - loss: 1.9240 - acc: 0.8453 - val_loss: 2.0898 - val_acc: 0.8207\n",
      "Epoch 3/30\n",
      "12150/12150 [==============================] - 10s 808us/step - loss: 1.9065 - acc: 0.8481 - val_loss: 2.0739 - val_acc: 0.8296\n",
      "Epoch 4/30\n",
      "12150/12150 [==============================] - 10s 818us/step - loss: 1.8928 - acc: 0.8497 - val_loss: 2.0679 - val_acc: 0.8356\n",
      "Epoch 5/30\n",
      "12150/12150 [==============================] - 10s 817us/step - loss: 1.8818 - acc: 0.8529 - val_loss: 2.0651 - val_acc: 0.8341\n",
      "Epoch 6/30\n",
      "12150/12150 [==============================] - 10s 802us/step - loss: 1.8723 - acc: 0.8544 - val_loss: 2.0581 - val_acc: 0.8370\n",
      "Epoch 7/30\n",
      "12150/12150 [==============================] - 10s 814us/step - loss: 1.8638 - acc: 0.8563 - val_loss: 2.0521 - val_acc: 0.8341\n",
      "Epoch 8/30\n",
      "12150/12150 [==============================] - 10s 815us/step - loss: 1.8565 - acc: 0.8587 - val_loss: 2.0497 - val_acc: 0.8356\n",
      "Epoch 9/30\n",
      "12150/12150 [==============================] - 10s 805us/step - loss: 1.8499 - acc: 0.8600 - val_loss: 2.0453 - val_acc: 0.8356\n",
      "Epoch 10/30\n",
      "12150/12150 [==============================] - 10s 839us/step - loss: 1.8441 - acc: 0.8604 - val_loss: 2.0388 - val_acc: 0.8385\n",
      "Epoch 11/30\n",
      "12150/12150 [==============================] - 10s 859us/step - loss: 1.8387 - acc: 0.8622 - val_loss: 2.0353 - val_acc: 0.8400\n",
      "Epoch 12/30\n",
      "12150/12150 [==============================] - 9s 742us/step - loss: 1.8334 - acc: 0.8640 - val_loss: 2.0376 - val_acc: 0.8378\n",
      "Epoch 13/30\n",
      "12150/12150 [==============================] - 8s 672us/step - loss: 1.8294 - acc: 0.8653 - val_loss: 2.0317 - val_acc: 0.8415\n",
      "Epoch 14/30\n",
      "12150/12150 [==============================] - 8s 680us/step - loss: 1.8251 - acc: 0.8658 - val_loss: 2.0292 - val_acc: 0.8400\n",
      "Epoch 15/30\n",
      "12150/12150 [==============================] - 8s 693us/step - loss: 1.8207 - acc: 0.8677 - val_loss: 2.0276 - val_acc: 0.8422\n",
      "Epoch 16/30\n",
      "12150/12150 [==============================] - 8s 672us/step - loss: 1.8168 - acc: 0.8686 - val_loss: 2.0287 - val_acc: 0.8407\n",
      "Epoch 17/30\n",
      "12150/12150 [==============================] - 8s 663us/step - loss: 1.8139 - acc: 0.8695 - val_loss: 2.0241 - val_acc: 0.8400\n",
      "Epoch 18/30\n",
      "12150/12150 [==============================] - 8s 663us/step - loss: 1.8107 - acc: 0.8700 - val_loss: 2.0219 - val_acc: 0.8422\n",
      "Epoch 19/30\n",
      "12150/12150 [==============================] - 8s 671us/step - loss: 1.8076 - acc: 0.8716 - val_loss: 2.0194 - val_acc: 0.8444\n",
      "Epoch 20/30\n",
      "12150/12150 [==============================] - 8s 692us/step - loss: 1.8049 - acc: 0.8726 - val_loss: 2.0178 - val_acc: 0.8452\n",
      "Epoch 21/30\n",
      "12150/12150 [==============================] - 9s 772us/step - loss: 1.8021 - acc: 0.8733 - val_loss: 2.0158 - val_acc: 0.8444\n",
      "Epoch 22/30\n",
      "12150/12150 [==============================] - 8s 697us/step - loss: 1.7993 - acc: 0.8732 - val_loss: 2.0152 - val_acc: 0.8444\n",
      "Epoch 23/30\n",
      "12150/12150 [==============================] - 8s 677us/step - loss: 1.7970 - acc: 0.8751 - val_loss: 2.0156 - val_acc: 0.8452\n",
      "Epoch 24/30\n",
      "12150/12150 [==============================] - 8s 695us/step - loss: 1.7947 - acc: 0.8752 - val_loss: 2.0127 - val_acc: 0.8452\n",
      "Epoch 25/30\n",
      "12150/12150 [==============================] - 8s 690us/step - loss: 1.7925 - acc: 0.8754 - val_loss: 2.0108 - val_acc: 0.8481\n",
      "Epoch 26/30\n",
      "12150/12150 [==============================] - 9s 715us/step - loss: 1.7907 - acc: 0.8762 - val_loss: 2.0101 - val_acc: 0.8452\n",
      "Epoch 27/30\n",
      "12150/12150 [==============================] - 8s 692us/step - loss: 1.7886 - acc: 0.8770 - val_loss: 2.0081 - val_acc: 0.8467\n",
      "Epoch 28/30\n",
      "12150/12150 [==============================] - 8s 697us/step - loss: 1.7867 - acc: 0.8779 - val_loss: 2.0051 - val_acc: 0.8496\n",
      "Epoch 29/30\n",
      "12150/12150 [==============================] - 9s 757us/step - loss: 1.7850 - acc: 0.8781 - val_loss: 2.0054 - val_acc: 0.8467\n",
      "Epoch 30/30\n",
      "12150/12150 [==============================] - 9s 713us/step - loss: 1.7833 - acc: 0.8781 - val_loss: 2.0055 - val_acc: 0.8474\n"
     ]
    },
    {
     "data": {
      "text/plain": [
       "<keras.callbacks.History at 0x18323a6940>"
      ]
     },
     "execution_count": 301,
     "metadata": {},
     "output_type": "execute_result"
    }
   ],
   "source": [
    "model.fit(train_img, train_y_encoded,\n",
    "          batch_size=50,\n",
    "          epochs=30,\n",
    "          verbose=1,\n",
    "          validation_data=(test_img, test_y_encoded))"
   ]
  },
  {
   "cell_type": "code",
   "execution_count": 317,
   "metadata": {},
   "outputs": [
    {
     "name": "stdout",
     "output_type": "stream",
     "text": [
      "Test loss: 2.005458299495556\n",
      "Test accuracy: 0.8474074073191042\n"
     ]
    }
   ],
   "source": [
    "score = model.evaluate(test_img, test_y_encoded_cat, verbose=0)\n",
    "print('Test loss:', score[0])\n",
    "print('Test accuracy:', score[1])"
   ]
  },
  {
   "cell_type": "code",
   "execution_count": 321,
   "metadata": {},
   "outputs": [],
   "source": [
    "pred = model.predict_classes(test_img)"
   ]
  },
  {
   "cell_type": "code",
   "execution_count": 323,
   "metadata": {},
   "outputs": [
    {
     "data": {
      "text/plain": [
       "0.8474074074074074"
      ]
     },
     "execution_count": 323,
     "metadata": {},
     "output_type": "execute_result"
    }
   ],
   "source": [
    "np.sum(test_y_encoded == pred) / len(test_img)"
   ]
  },
  {
   "cell_type": "code",
   "execution_count": 192,
   "metadata": {},
   "outputs": [
    {
     "ename": "ValueError",
     "evalue": "invalid literal for int() with base 10: '|'",
     "output_type": "error",
     "traceback": [
      "\u001b[0;31m---------------------------------------------------------------------------\u001b[0m",
      "\u001b[0;31mValueError\u001b[0m                                Traceback (most recent call last)",
      "\u001b[0;32m<ipython-input-192-fde6907685b5>\u001b[0m in \u001b[0;36m<module>\u001b[0;34m()\u001b[0m\n\u001b[0;32m----> 1\u001b[0;31m \u001b[0mencoded\u001b[0m \u001b[0;34m=\u001b[0m \u001b[0mto_categorical\u001b[0m\u001b[0;34m(\u001b[0m\u001b[0mtest_y\u001b[0m\u001b[0;34m)\u001b[0m\u001b[0;34m\u001b[0m\u001b[0m\n\u001b[0m",
      "\u001b[0;32m/anaconda3/lib/python3.6/site-packages/keras/utils/np_utils.py\u001b[0m in \u001b[0;36mto_categorical\u001b[0;34m(y, num_classes)\u001b[0m\n\u001b[1;32m     20\u001b[0m         \u001b[0mA\u001b[0m \u001b[0mbinary\u001b[0m \u001b[0mmatrix\u001b[0m \u001b[0mrepresentation\u001b[0m \u001b[0mof\u001b[0m \u001b[0mthe\u001b[0m \u001b[0minput\u001b[0m\u001b[0;34m.\u001b[0m\u001b[0;34m\u001b[0m\u001b[0m\n\u001b[1;32m     21\u001b[0m     \"\"\"\n\u001b[0;32m---> 22\u001b[0;31m     \u001b[0my\u001b[0m \u001b[0;34m=\u001b[0m \u001b[0mnp\u001b[0m\u001b[0;34m.\u001b[0m\u001b[0marray\u001b[0m\u001b[0;34m(\u001b[0m\u001b[0my\u001b[0m\u001b[0;34m,\u001b[0m \u001b[0mdtype\u001b[0m\u001b[0;34m=\u001b[0m\u001b[0;34m'int'\u001b[0m\u001b[0;34m)\u001b[0m\u001b[0;34m\u001b[0m\u001b[0m\n\u001b[0m\u001b[1;32m     23\u001b[0m     \u001b[0minput_shape\u001b[0m \u001b[0;34m=\u001b[0m \u001b[0my\u001b[0m\u001b[0;34m.\u001b[0m\u001b[0mshape\u001b[0m\u001b[0;34m\u001b[0m\u001b[0m\n\u001b[1;32m     24\u001b[0m     \u001b[0;32mif\u001b[0m \u001b[0minput_shape\u001b[0m \u001b[0;32mand\u001b[0m \u001b[0minput_shape\u001b[0m\u001b[0;34m[\u001b[0m\u001b[0;34m-\u001b[0m\u001b[0;36m1\u001b[0m\u001b[0;34m]\u001b[0m \u001b[0;34m==\u001b[0m \u001b[0;36m1\u001b[0m \u001b[0;32mand\u001b[0m \u001b[0mlen\u001b[0m\u001b[0;34m(\u001b[0m\u001b[0minput_shape\u001b[0m\u001b[0;34m)\u001b[0m \u001b[0;34m>\u001b[0m \u001b[0;36m1\u001b[0m\u001b[0;34m:\u001b[0m\u001b[0;34m\u001b[0m\u001b[0m\n",
      "\u001b[0;31mValueError\u001b[0m: invalid literal for int() with base 10: '|'"
     ]
    }
   ],
   "source": [
    "encoded = to_categorical(test_y)"
   ]
  },
  {
   "cell_type": "code",
   "execution_count": 193,
   "metadata": {},
   "outputs": [
    {
     "ename": "TypeError",
     "evalue": "unhashable type: 'numpy.ndarray'",
     "output_type": "error",
     "traceback": [
      "\u001b[0;31m---------------------------------------------------------------------------\u001b[0m",
      "\u001b[0;31mTypeError\u001b[0m                                 Traceback (most recent call last)",
      "\u001b[0;32m<ipython-input-193-acfbea20b7f0>\u001b[0m in \u001b[0;36m<module>\u001b[0;34m()\u001b[0m\n\u001b[1;32m      1\u001b[0m \u001b[0mkeys\u001b[0m \u001b[0;34m=\u001b[0m \u001b[0;34m{\u001b[0m\u001b[0;34m}\u001b[0m\u001b[0;34m\u001b[0m\u001b[0m\n\u001b[1;32m      2\u001b[0m \u001b[0;32mfor\u001b[0m \u001b[0my\u001b[0m \u001b[0;32min\u001b[0m \u001b[0mtrain_y\u001b[0m\u001b[0;34m:\u001b[0m\u001b[0;34m\u001b[0m\u001b[0m\n\u001b[0;32m----> 3\u001b[0;31m     \u001b[0mkeys\u001b[0m\u001b[0;34m[\u001b[0m\u001b[0mtrain_y\u001b[0m\u001b[0;34m]\u001b[0m \u001b[0;34m=\u001b[0m \u001b[0;36m1\u001b[0m\u001b[0;34m\u001b[0m\u001b[0m\n\u001b[0m",
      "\u001b[0;31mTypeError\u001b[0m: unhashable type: 'numpy.ndarray'"
     ]
    }
   ],
   "source": [
    "keys = {}\n",
    "for y in train_y:\n",
    "    keys[train_y] = 1"
   ]
  },
  {
   "cell_type": "code",
   "execution_count": 197,
   "metadata": {},
   "outputs": [
    {
     "data": {
      "text/plain": [
       "array([67, 22, 16, ..., 15, 18, 67])"
      ]
     },
     "execution_count": 197,
     "metadata": {},
     "output_type": "execute_result"
    }
   ],
   "source": [
    "encoded_Y"
   ]
  },
  {
   "cell_type": "code",
   "execution_count": 198,
   "metadata": {},
   "outputs": [
    {
     "data": {
      "text/plain": [
       "array(['|', '17_16', '15_16', ..., '14_8', '15_8', '|'], dtype='<U5')"
      ]
     },
     "execution_count": 198,
     "metadata": {},
     "output_type": "execute_result"
    }
   ],
   "source": [
    "test_y"
   ]
  },
  {
   "cell_type": "code",
   "execution_count": 324,
   "metadata": {},
   "outputs": [
    {
     "name": "stdout",
     "output_type": "stream",
     "text": [
      "_________________________________________________________________\n",
      "Layer (type)                 Output Shape              Param #   \n",
      "=================================================================\n",
      "conv2d_28 (Conv2D)           (None, 24, 24, 32)        832       \n",
      "_________________________________________________________________\n",
      "max_pooling2d_25 (MaxPooling (None, 12, 12, 32)        0         \n",
      "_________________________________________________________________\n",
      "conv2d_29 (Conv2D)           (None, 8, 8, 64)          51264     \n",
      "_________________________________________________________________\n",
      "max_pooling2d_26 (MaxPooling (None, 4, 4, 64)          0         \n",
      "_________________________________________________________________\n",
      "flatten_12 (Flatten)         (None, 1024)              0         \n",
      "_________________________________________________________________\n",
      "dense_20 (Dense)             (None, 1000)              1025000   \n",
      "_________________________________________________________________\n",
      "dense_21 (Dense)             (None, 23)                23023     \n",
      "=================================================================\n",
      "Total params: 1,100,119\n",
      "Trainable params: 1,100,119\n",
      "Non-trainable params: 0\n",
      "_________________________________________________________________\n"
     ]
    }
   ],
   "source": [
    "model.summary()"
   ]
  },
  {
   "cell_type": "code",
   "execution_count": 325,
   "metadata": {},
   "outputs": [
    {
     "name": "stderr",
     "output_type": "stream",
     "text": [
      "WARNING:root:Keras version 2.1.4 detected. Last version known to be fully compatible of Keras is 2.1.3 .\n",
      "WARNING:root:TensorFlow version 1.8.0 detected. Last version known to be fully compatible is 1.5.0 .\n"
     ]
    }
   ],
   "source": [
    "import coremltools"
   ]
  },
  {
   "cell_type": "code",
   "execution_count": 328,
   "metadata": {},
   "outputs": [
    {
     "name": "stdout",
     "output_type": "stream",
     "text": [
      "0 : conv2d_28_input, <keras.engine.topology.InputLayer object at 0x1834e91208>\n",
      "1 : conv2d_28, <keras.layers.convolutional.Conv2D object at 0x1834e916a0>\n",
      "2 : conv2d_28__activation__, <keras.layers.core.Activation object at 0x1833638a58>\n",
      "3 : max_pooling2d_25, <keras.layers.pooling.MaxPooling2D object at 0x1834e91fd0>\n",
      "4 : conv2d_29, <keras.layers.convolutional.Conv2D object at 0x1834e91550>\n",
      "5 : conv2d_29__activation__, <keras.layers.core.Activation object at 0x18336385c0>\n",
      "6 : max_pooling2d_26, <keras.layers.pooling.MaxPooling2D object at 0x18326875c0>\n",
      "7 : flatten_12, <keras.layers.core.Flatten object at 0x1836958eb8>\n",
      "8 : dense_20, <keras.layers.core.Dense object at 0x18326870b8>\n",
      "9 : dense_20__activation__, <keras.layers.core.Activation object at 0x1833638470>\n",
      "10 : dense_21, <keras.layers.core.Dense object at 0x1832687d30>\n",
      "11 : dense_21__activation__, <keras.layers.core.Activation object at 0x18336382e8>\n"
     ]
    }
   ],
   "source": [
    "coreml_model = coremltools.converters.keras.convert(model, input_names='img', output_names='note_class')\n",
    "coreml_model.save('./MusicNoteClassification.mlmodel')"
   ]
  },
  {
   "cell_type": "code",
   "execution_count": 327,
   "metadata": {},
   "outputs": [
    {
     "data": {
      "text/plain": [
       "'/Users/YuanShen1/Dropbox/sheet_reader/dataset_generator'"
      ]
     },
     "execution_count": 327,
     "metadata": {},
     "output_type": "execute_result"
    }
   ],
   "source": [
    "pwd"
   ]
  },
  {
   "cell_type": "code",
   "execution_count": 329,
   "metadata": {
    "collapsed": true
   },
   "outputs": [],
   "source": [
    "coreml_model.save(filename='MusicNoteClassification.mlmodel')"
   ]
  },
  {
   "cell_type": "code",
   "execution_count": 330,
   "metadata": {},
   "outputs": [
    {
     "ename": "Exception",
     "evalue": "Model prediction is only supported on macOS version 10.13 or later.",
     "output_type": "error",
     "traceback": [
      "\u001b[0;31m---------------------------------------------------------------------------\u001b[0m",
      "\u001b[0;31mException\u001b[0m                                 Traceback (most recent call last)",
      "\u001b[0;32m<ipython-input-330-0559b30af242>\u001b[0m in \u001b[0;36m<module>\u001b[0;34m()\u001b[0m\n\u001b[0;32m----> 1\u001b[0;31m \u001b[0mcoreml_model\u001b[0m\u001b[0;34m.\u001b[0m\u001b[0mpredict\u001b[0m\u001b[0;34m(\u001b[0m\u001b[0;34m{\u001b[0m\u001b[0;34m'img'\u001b[0m\u001b[0;34m:\u001b[0m\u001b[0mtest_img\u001b[0m\u001b[0;34m}\u001b[0m\u001b[0;34m)\u001b[0m\u001b[0;34m\u001b[0m\u001b[0m\n\u001b[0m",
      "\u001b[0;32m/anaconda3/lib/python3.6/site-packages/coremltools/models/model.py\u001b[0m in \u001b[0;36mpredict\u001b[0;34m(self, data, useCPUOnly, **kwargs)\u001b[0m\n\u001b[1;32m    265\u001b[0m         \u001b[0;32melse\u001b[0m\u001b[0;34m:\u001b[0m\u001b[0;34m\u001b[0m\u001b[0m\n\u001b[1;32m    266\u001b[0m             \u001b[0;32mif\u001b[0m \u001b[0m_macos_version\u001b[0m\u001b[0;34m(\u001b[0m\u001b[0;34m)\u001b[0m \u001b[0;34m<\u001b[0m \u001b[0;34m(\u001b[0m\u001b[0;36m10\u001b[0m\u001b[0;34m,\u001b[0m \u001b[0;36m13\u001b[0m\u001b[0;34m)\u001b[0m\u001b[0;34m:\u001b[0m\u001b[0;34m\u001b[0m\u001b[0m\n\u001b[0;32m--> 267\u001b[0;31m                 \u001b[0;32mraise\u001b[0m \u001b[0mException\u001b[0m\u001b[0;34m(\u001b[0m\u001b[0;34m'Model prediction is only supported on macOS version 10.13 or later.'\u001b[0m\u001b[0;34m)\u001b[0m\u001b[0;34m\u001b[0m\u001b[0m\n\u001b[0m\u001b[1;32m    268\u001b[0m \u001b[0;34m\u001b[0m\u001b[0m\n\u001b[1;32m    269\u001b[0m             \u001b[0;32mtry\u001b[0m\u001b[0;34m:\u001b[0m\u001b[0;34m\u001b[0m\u001b[0m\n",
      "\u001b[0;31mException\u001b[0m: Model prediction is only supported on macOS version 10.13 or later."
     ]
    }
   ],
   "source": [
    "coreml_model.predict({'img':test_img})"
   ]
  },
  {
   "cell_type": "code",
   "execution_count": 339,
   "metadata": {},
   "outputs": [],
   "source": [
    "def convert_model(model):\n",
    "\tprint('converting...')\n",
    "\tcoreml_model = coremltools.converters.keras.convert(model,input_names=['image'],image_input_names='image')\n",
    "\tcoreml_model.author = 'YUAN SHEN'\n",
    "\tcoreml_model.license = 'MIT'\n",
    "\tcoreml_model.short_description = 'Reads a handwritten music note.'\n",
    "\tcoreml_model.input_description['image'] = 'A 28x28 pixel Image'\n",
    "\tcoreml_model.output_description['output1'] = 'A one-hot Multiarray of the music note class '\n",
    "\tcoreml_model.save('MusicNoteClassification.mlmodel')\n",
    "\tprint('model converted')"
   ]
  },
  {
   "cell_type": "code",
   "execution_count": 340,
   "metadata": {},
   "outputs": [
    {
     "name": "stdout",
     "output_type": "stream",
     "text": [
      "converting...\n",
      "0 : conv2d_28_input, <keras.engine.topology.InputLayer object at 0x1834e91208>\n",
      "1 : conv2d_28, <keras.layers.convolutional.Conv2D object at 0x1834e916a0>\n",
      "2 : conv2d_28__activation__, <keras.layers.core.Activation object at 0x1834735828>\n",
      "3 : max_pooling2d_25, <keras.layers.pooling.MaxPooling2D object at 0x1834e91fd0>\n",
      "4 : conv2d_29, <keras.layers.convolutional.Conv2D object at 0x1834e91550>\n",
      "5 : conv2d_29__activation__, <keras.layers.core.Activation object at 0x1834735630>\n",
      "6 : max_pooling2d_26, <keras.layers.pooling.MaxPooling2D object at 0x18326875c0>\n",
      "7 : flatten_12, <keras.layers.core.Flatten object at 0x1836958eb8>\n",
      "8 : dense_20, <keras.layers.core.Dense object at 0x18326870b8>\n",
      "9 : dense_20__activation__, <keras.layers.core.Activation object at 0x1834735588>\n",
      "10 : dense_21, <keras.layers.core.Dense object at 0x1832687d30>\n",
      "11 : dense_21__activation__, <keras.layers.core.Activation object at 0x18347357f0>\n",
      "model converted\n"
     ]
    }
   ],
   "source": [
    "convert_model(model)"
   ]
  },
  {
   "cell_type": "code",
   "execution_count": null,
   "metadata": {
    "collapsed": true
   },
   "outputs": [],
   "source": []
  }
 ],
 "metadata": {
  "kernelspec": {
   "display_name": "Python 3",
   "language": "python",
   "name": "python3"
  },
  "language_info": {
   "codemirror_mode": {
    "name": "ipython",
    "version": 3
   },
   "file_extension": ".py",
   "mimetype": "text/x-python",
   "name": "python",
   "nbconvert_exporter": "python",
   "pygments_lexer": "ipython3",
   "version": "3.6.3"
  }
 },
 "nbformat": 4,
 "nbformat_minor": 2
}

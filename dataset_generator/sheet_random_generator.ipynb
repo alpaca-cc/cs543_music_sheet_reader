{
 "cells": [
  {
   "cell_type": "code",
   "execution_count": 1,
   "metadata": {},
   "outputs": [
    {
     "name": "stderr",
     "output_type": "stream",
     "text": [
      "Using TensorFlow backend.\n"
     ]
    }
   ],
   "source": [
    "from keras.datasets import mnist\n",
    "import matplotlib.pyplot as plt\n",
    "from keras.preprocessing import image\n",
    "import numpy as np\n",
    "import random\n",
    "%matplotlib inline\n",
    "import cv2"
   ]
  },
  {
   "cell_type": "code",
   "execution_count": 2,
   "metadata": {
    "collapsed": true
   },
   "outputs": [],
   "source": [
    "(x_train, y_train), (x_test, y_test) = mnist.load_data()"
   ]
  },
  {
   "cell_type": "code",
   "execution_count": 3,
   "metadata": {
    "collapsed": true
   },
   "outputs": [],
   "source": [
    "def get_measure_note(thickness = 3, height = 45, width = 10):\n",
    "    measure_note = np.zeros([height,width])\n",
    "    length = random.randint(height-3,height)\n",
    "    measure_note[0:length, int(width/2):int(width/2)+thickness] = 255\n",
    "    rows,cols = measure_note.shape\n",
    "    M = cv2.getRotationMatrix2D((cols/2,rows/2),random.randint(-5,5),random.random()*0.12 + 0.95)\n",
    "    measure_note = cv2.warpAffine(measure_note,M,(cols,rows))\n",
    "    measure_note = cv2.GaussianBlur(measure_note,(3,3),0)\n",
    "    return measure_note"
   ]
  },
  {
   "cell_type": "code",
   "execution_count": 4,
   "metadata": {
    "collapsed": true
   },
   "outputs": [],
   "source": [
    "def get_rest_bar(thickness = 3, height = 45, width = 10):\n",
    "    rest_bar = np.zeros([height,width])\n",
    "    length = random.randint(43,45)\n",
    "    rest_bar[int(height/2)-1:int(height/2)+thickness-1, 0:10 - random.randint(0,2)] = 255\n",
    "    rows,cols = rest_bar.shape\n",
    "    M = cv2.getRotationMatrix2D((cols/2,rows/2),random.randint(-4,10),random.random()*0.12 + 0.95)\n",
    "    rest_bar = cv2.warpAffine(rest_bar,M,(cols,rows))\n",
    "    rest_bar = cv2.GaussianBlur(rest_bar,(3,3),0)\n",
    "    return rest_bar"
   ]
  },
  {
   "cell_type": "code",
   "execution_count": 6,
   "metadata": {
    "collapsed": true
   },
   "outputs": [],
   "source": [
    "def get_note(last_digit = -1, can_zero=True):\n",
    "    canvass = np.zeros([45,28])\n",
    "    index = random.randint(0,x_train.shape[0])\n",
    "    while y_train[index] > 7 or y_train[index] == last_digit or (not can_zero and y_train[index] == 0):\n",
    "        index = random.randint(0,x_train.shape[0])\n",
    "    canvass[4:32,:] = x_train[index]\n",
    "    label = y_train[index]\n",
    "    level_vote = random.randint(0,2)\n",
    "    if level_vote == 0 or label == 0:\n",
    "        return canvass, label\n",
    "    \n",
    "    if level_vote == 1:\n",
    "        canvass[0:3,12:15] = 255\n",
    "        canvass[0:5,11:16] = cv2.GaussianBlur(canvass[0:5,11:16],(3,3),0)\n",
    "        return canvass, label + 10\n",
    "    \n",
    "    if level_vote == 2:\n",
    "        canvass[41:44,12:15] = 255\n",
    "        canvass[40:44,11:16] = cv2.GaussianBlur(canvass[40:44,11:16],(3,3),0)\n",
    "        return canvass, label + 20"
   ]
  },
  {
   "cell_type": "code",
   "execution_count": 12,
   "metadata": {},
   "outputs": [],
   "source": [
    "def get_combination(last_digit, simple_version = False):\n",
    "    #1 * 1/4, 2 * 1/8, 1 * 1/8 + 2 * 1/16,  2 * 1/16 + 1/8, 4 * 1/16 \n",
    "    index = random.randint(1,5)\n",
    "    index = 1\n",
    "    if simple_version:\n",
    "        index = True\n",
    "    if index == 1:\n",
    "        # 1 * 1/4\n",
    "        seed = random.randint(1,2)\n",
    "        if seed == 1 and not simple_version and last_digit != -1 and last_digit != 0:\n",
    "            c = get_rest_bar()\n",
    "            return c, ['-'], last_digit\n",
    "        c, label =  get_note(last_digit=last_digit)\n",
    "        return c, [str(label) + \"_4\"], [[0,0,c.shape[0]-1, c.shape[1]-1]], label\n",
    "    if index == 2:\n",
    "        # 2 * 1/8\n",
    "        img1, label1 = get_note(last_digit=last_digit)\n",
    "        img2, label2 = get_note(label1)\n",
    "        c = np.hstack((img1, img2))\n",
    "        c[34:36, 5:55] = 255\n",
    "        rows = 3\n",
    "        cols = 51\n",
    "        M = cv2.getRotationMatrix2D((cols/2,rows/2),random.randint(-4,4),random.random()*0.12 + 0.95)\n",
    "        c[34:37, 4:55] = cv2.warpAffine(c[34:37, 4:55],M,(cols,rows))\n",
    "        return c, [str(label1) + '_8',str(label2) + '_8'], [[0,0, 44, img1.shape(1) - 1], [0, img1.shape(1), 44, c.shape(1)-1]],  label2\n",
    "        \n",
    "    if index == 3:\n",
    "        #2 * 1/16 + 1/8\n",
    "        [img1, label1] = get_note(last_digit=last_digit)\n",
    "        [img2, label2] = get_note(label1)\n",
    "        [img3, label3] = get_note(label2)\n",
    "        c = np.hstack((img1, img2, img3))\n",
    "        c[33:35, 5:c.shape[1]-5] = 255\n",
    "        c[37:39, 5:52] = 255\n",
    "        rows = 8\n",
    "        cols = c.shape[1] - 9\n",
    "        M = cv2.getRotationMatrix2D((cols/2,rows/2),random.randint(1,3),1)\n",
    "        c[32:40, 4:c.shape[1]-5] = cv2.warpAffine(c[32:40, 4:c.shape[1]-5],M,(cols,rows))\n",
    "        return c, [str(label1) + '_16',str(label2) + '_16', str(label3) + '_8'], label3\n",
    "    \n",
    "    if index == 4:\n",
    "        #1/8 + 2 * 1/16\n",
    "        [img1, label1] = get_note(last_digit=last_digit)\n",
    "        [img2, label2] = get_note(label1)\n",
    "        [img3, label3] = get_note(label2)\n",
    "        c = np.hstack((img1, img2, img3))\n",
    "        c[33:35, 5:c.shape[1]-5] = 255\n",
    "        c[37:39, 35:c.shape[1]-5] = 255\n",
    "        rows = 8\n",
    "        cols = c.shape[1] - 9\n",
    "        M = cv2.getRotationMatrix2D((cols/2,rows/2),random.randint(1,3),1)\n",
    "        c[32:40, 4:c.shape[1]-5] = cv2.warpAffine(c[32:40, 4:c.shape[1]-5],M,(cols,rows))\n",
    "        return c, [str(label1) + '_8',str(label2) + '_16', str(label3) + '_16'], label3\n",
    "    if index == 5:\n",
    "        #4 * 1/16\n",
    "        pass\n",
    "        [img1, label1] = get_note(last_digit=last_digit)\n",
    "        [img2, label2] = get_note(label1)\n",
    "        [img3, label3] = get_note(label2)\n",
    "        [img4, label4] = get_note(label3)\n",
    "        c = np.hstack((img1, img2, img3, img4))\n",
    "        c[33:35, 5:c.shape[1]-5] = 255\n",
    "        c[37:39, 5:c.shape[1]-5] = 255\n",
    "        rows = 8\n",
    "        cols = 102\n",
    "        M = cv2.getRotationMatrix2D((cols/2,rows/2),random.randint(-1,1),1)\n",
    "        c[31:39, 5:c.shape[1]-5] = cv2.warpAffine(c[32:39, 5:c.shape[1]-5],M,(cols,rows))\n",
    "        return c, [str(label1) + '_16',str(label2) + '_16', str(label3) + '_16', str(label4) + '_16'], label4"
   ]
  },
  {
   "cell_type": "code",
   "execution_count": 61,
   "metadata": {
    "collapsed": true
   },
   "outputs": [],
   "source": [
    "def get_box(canvass, show_graph = True, base_coord=[0,0,0,0]):\n",
    "    top_boundary = 0\n",
    "    bottom_boundary = canvass.shape[0]-1\n",
    "    left_boundary = 0\n",
    "    right_boundary = canvass.shape[1]-1\n",
    "    for i in range(canvass.shape[1]):\n",
    "        for j in range(canvass.shape[0]):\n",
    "            if canvass[j][i]:\n",
    "                right_boundary = i\n",
    "                break\n",
    "                \n",
    "    for i in reversed(range(canvass.shape[1])):\n",
    "        for j in range(canvass.shape[0]):\n",
    "            if canvass[j][i]:\n",
    "                left_boundary = i\n",
    "                break\n",
    "    print(top_boundary, bottom_boundary, left_boundary, right_boundary)\n",
    "    canvass[top_boundary:bottom_boundary,left_boundary:left_boundary+1] = 255\n",
    "    canvass[top_boundary:bottom_boundary,right_boundary-1:right_boundary] = 255\n",
    "    canvass[top_boundary:top_boundary+1,left_boundary:right_boundary] = 255\n",
    "    canvass[bottom_boundary-1:bottom_boundary,left_boundary:right_boundary] = 255\n",
    "    if show_graph:\n",
    "        plt.imshow(canvass)\n",
    "    return [top_boundary + base_coord[0], left_boundary + base_coord[1], bottom_boundary + base_coord[2], right_boundary ++ base_coord[3]]"
   ]
  },
  {
   "cell_type": "code",
   "execution_count": 62,
   "metadata": {},
   "outputs": [
    {
     "name": "stdout",
     "output_type": "stream",
     "text": [
      "0 44 4 23\n"
     ]
    },
    {
     "data": {
      "image/png": "[encoded data removed]",
      "text/plain": [
       "<matplotlib.figure.Figure at 0x1825365be0>"
      ]
     },
     "metadata": {},
     "output_type": "display_data"
    }
   ],
   "source": [
    "[c, labels, loc, last_digit] = get_combination(-1)\n",
    "draw_box(c)"
   ]
  },
  {
   "cell_type": "code",
   "execution_count": 1358,
   "metadata": {},
   "outputs": [],
   "source": [
    "def get_line(max_width, measure_capacity = 2, simple_version = False, try_num = 3):\n",
    "    canvass, labels, last_digit = get_combination(-1, simple_version=simple_version)\n",
    "    curr_width = canvass.shape[1]\n",
    "    remained_measure = measure_capacity - 1\n",
    "    while True:\n",
    "        new_canvasses, new_labels, last_digit = get_combination(last_digit, simple_version=simple_version)\n",
    "        remained_measure = measure_capacity - 1\n",
    "        while remained_measure:\n",
    "            new_canvass, new_label, last_digit = get_combination(last_digit, simple_version=simple_version)\n",
    "            new_canvasses = np.hstack((new_canvasses, new_canvass))\n",
    "            new_labels += new_label\n",
    "            remained_measure -= 1\n",
    "        \n",
    "        new_measure_note = get_measure_note()\n",
    "        new_canvasses = np.hstack((new_canvasses, new_measure_note))\n",
    "        new_labels += '|'\n",
    "        if new_canvasses.shape[1] + canvass.shape[1] > max_width:\n",
    "            if try_num == 0:\n",
    "                break\n",
    "            try_num -=1\n",
    "            continue\n",
    "        canvass = np.hstack((canvass, new_canvasses))\n",
    "        labels += new_labels\n",
    "        curr_width += new_canvass.shape[1]\n",
    "    canvass = np.hstack((canvass, np.zeros([45, max_width - canvass.shape[1]])))\n",
    "    return canvass, labels"
   ]
  },
  {
   "cell_type": "code",
   "execution_count": 1359,
   "metadata": {},
   "outputs": [],
   "source": [
    "def get_page(directory, max_height, max_width, measure_capacity, inner_line_spacing = 30, simple_version = False):\n",
    "    canvass, labels = get_line(max_width, measure_capacity, simple_version)\n",
    "    curr_height = canvass.shape[0]\n",
    "    while curr_height < max_height:\n",
    "        new_canvass1 = np.zeros([inner_line_spacing, max_width])\n",
    "        new_canvass2, new_labels = get_line(max_width, measure_capacity, simple_version)\n",
    "        new_canvass = np.vstack((new_canvass1, new_canvass2))\n",
    "        if curr_height + new_canvass.shape[0] > max_height:\n",
    "            break\n",
    "        canvass = np.vstack((canvass, new_canvass))\n",
    "        labels += new_labels\n",
    "        curr_height += new_canvass.shape[0]\n",
    "    cv2.imwrite(directory, canvass)\n",
    "    return canvass, labels"
   ]
  },
  {
   "cell_type": "code",
   "execution_count": 1360,
   "metadata": {},
   "outputs": [
    {
     "name": "stdout",
     "output_type": "stream",
     "text": [
      "['2_8', '3_16', '21_16', '3_16', '24_16', '17_16', '17_16', '21_4', '|', '-', '4_8', '26_16', '22_16', '|', '-', '11_16', '6_16', '0_8', '|', '12_8', '1_16', '0_16', '6_8', '27_8', '|', '22_8', '21_16', '0_16', '3_4', '1_8', '0_8', '|', '2_8', '17_8', '27_16', '6_16', '12_16', '21_16', '|', '-', '21_16', '0_16', '4_8', '|', '23_8', '0_8', '23_8', '1_8', '|', '26_8', '1_16', '14_16', '0_16', '25_16', '23_16', '14_16', '21_8', '17_16', '0_16', '|', '6_16', '0_16', '21_8', '26_8', '5_16', '0_16', '|', '7_16', '24_16', '24_8', '4_16', '16_16', '0_16', '11_16', '5_8', '13_8', '|', '0_8', '26_8', '17_8', '2_16', '23_16', '|', '22_4', '3_8', '26_16', '2_16', '|', '13_4', '21_4', '|', '11_16', '15_16', '27_16', '6_16', '22_4', '3_16', '4_16', '5_8', '|', '11_8', '4_16', '12_16', '22_8', '21_16', '5_16', '|', '3_16', '6_16', '0_8', '15_8', '11_16', '21_16', '|', '25_8', '7_16', '16_16', '23_16', '13_16', '12_8', '11_16', '23_16', '4_8', '|', '7_8', '2_8', '26_8', '0_8', '|', '14_8', '26_16', '15_16', '12_16', '6_16', '4_16', '25_16', '|', '14_8', '27_8', '1_4', '16_8', '7_8', '|', '23_8', '1_16', '25_16', '6_16', '4_16', '17_8', '|', '22_4', '0_16', '1_16', '22_8', '|', '11_16', '21_16', '27_16', '14_16', '-', '|', '25_16', '26_16', '16_16', '7_16', '26_16', '6_16', '21_8', '26_4', '|', '0_16', '3_16', '21_8', '7_8', '24_8', '|', '24_16', '3_16', '25_16', '0_16', '25_8', '2_8', '|', '26_16', '1_16', '6_16', '13_16', '-', '23_16', '13_16', '13_8', '|', '25_4', '-', '|', '13_4', '0_8', '14_16', '0_16', '|', '17_8', '7_16', '25_16', '14_16', '21_16', '6_16', '27_16', '|', '4_8', '13_16', '6_16', '-', '0_8', '7_8', '|', '1_16', '13_16', '23_16', '25_16', '2_16', '1_16', '16_16', '14_16', '|', '11_8', '23_8', '21_8', '13_8', '|', '14_16', '2_16', '7_16', '3_16', '0_8', '22_16', '23_16', '22_8', '15_8', '|', '27_16', '22_16', '16_8', '-', '|', '6_16', '7_16', '16_16', '0_16', '21_16', '21_16', '21_8', '|']\n"
     ]
    },
    {
     "data": {
      "text/plain": [
       "<matplotlib.image.AxesImage at 0x1856a22940>"
      ]
     },
     "execution_count": 1360,
     "metadata": {},
     "output_type": "execute_result"
    },
    {
     "data": {
      "image/png": "[encoded data removed]",
      "text/plain": [
       "<matplotlib.figure.Figure at 0x185ebb3278>"
      ]
     },
     "metadata": {},
     "output_type": "display_data"
    }
   ],
   "source": [
    "[c, labels] = get_page('./output.png',800,600,2, simple_version=False)\n",
    "print(labels)\n",
    "plt.imshow(c)"
   ]
  },
  {
   "cell_type": "code",
   "execution_count": 507,
   "metadata": {},
   "outputs": [
    {
     "name": "stdout",
     "output_type": "stream",
     "text": [
      "[10, 46, 221, 249]\n"
     ]
    },
    {
     "data": {
      "image/png": "[encoded data removed]",
      "text/plain": [
       "<matplotlib.figure.Figure at 0x182849c828>"
      ]
     },
     "metadata": {},
     "output_type": "display_data"
    }
   ],
   "source": [
    "draw_box(canvas,note_box[10])"
   ]
  }
 ],
 "metadata": {
  "kernelspec": {
   "display_name": "Python 3",
   "language": "python",
   "name": "python3"
  },
  "language_info": {
   "codemirror_mode": {
    "name": "ipython",
    "version": 3
   },
   "file_extension": ".py",
   "mimetype": "text/x-python",
   "name": "python",
   "nbconvert_exporter": "python",
   "pygments_lexer": "ipython3",
   "version": "3.6.3"
  }
 },
 "nbformat": 4,
 "nbformat_minor": 2
}

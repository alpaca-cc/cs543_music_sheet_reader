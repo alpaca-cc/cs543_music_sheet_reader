{
 "cells": [
  {
   "cell_type": "code",
   "execution_count": 93,
   "metadata": {},
   "outputs": [],
   "source": [
    "from keras.datasets import mnist\n",
    "import matplotlib.pyplot as plt\n",
    "from keras.preprocessing import image\n",
    "import numpy as np\n",
    "import random\n",
    "%matplotlib inline\n",
    "import cv2"
   ]
  },
  {
   "cell_type": "code",
   "execution_count": 513,
   "metadata": {},
   "outputs": [],
   "source": [
    "def get_measure_note(thickness = 3, height = 45, width = 10):\n",
    "    measure_note = np.zeros([height,width])\n",
    "    length = random.randint(height-3,height)\n",
    "    measure_note[0:length, int(width/2):int(width/2)+thickness] = 225\n",
    "    rows,cols = measure_note.shape\n",
    "    M = cv2.getRotationMatrix2D((cols/2,rows/2),random.randint(-5,5),random.random()*0.12 + 0.95)\n",
    "    measure_note = cv2.warpAffine(measure_note,M,(cols,rows))\n",
    "    measure_note = cv2.GaussianBlur(measure_note,(3,3),0)\n",
    "    return measure_note"
   ]
  },
  {
   "cell_type": "code",
   "execution_count": 511,
   "metadata": {
    "collapsed": true
   },
   "outputs": [],
   "source": [
    "def get_rest_bar(thickness = 3, height = 10, width = 10):\n",
    "    rest_bar = np.zeros([height,width])\n",
    "    length = random.randint(43,45)\n",
    "    rest_bar[int(height/2)-1:int(height/2)+thickness-1, 0:10 - random.randint(0,2)] = 225\n",
    "    rows,cols = rest_bar.shape\n",
    "    M = cv2.getRotationMatrix2D((cols/2,rows/2),random.randint(-4,10),random.random()*0.12 + 0.95)\n",
    "    rest_bar = cv2.warpAffine(rest_bar,M,(cols,rows))\n",
    "    rest_bar = cv2.GaussianBlur(rest_bar,(3,3),0)\n",
    "    return rest_bar"
   ]
  },
  {
   "cell_type": "code",
   "execution_count": 591,
   "metadata": {},
   "outputs": [],
   "source": [
    "def get_note(last_digit = -1):\n",
    "    canvass = np.zeros([45,28])\n",
    "    index = random.randint(0,x_train.shape[0])\n",
    "    while y_train[index] > 7 or y_train[index] == last_digit:\n",
    "        index = random.randint(0,x_train.shape[0])\n",
    "    canvass[4:32,:] = x_train[index]\n",
    "    label = y_train[index]\n",
    "    level_vote = random.randint(0,3)\n",
    "    if level_vote == 0 or label == 0:\n",
    "        return canvass, label\n",
    "    \n",
    "    if level_vote == 1:\n",
    "        canvass[0:3,12:15] = 255\n",
    "        canvass[0:5,11:16] = cv2.GaussianBlur(canvass[0:5,11:16],(3,3),0)\n",
    "        return canvass, label + 10\n",
    "    \n",
    "    if level_vote == 2:\n",
    "        canvass[41:44,12:15] = 255\n",
    "        canvass[40:44,11:16] = cv2.GaussianBlur(canvass[40:44,11:16],(3,3),0)\n",
    "        return canvass, label + 20\n",
    "    "
   ]
  },
  {
   "cell_type": "code",
   "execution_count": 597,
   "metadata": {},
   "outputs": [
    {
     "ename": "TypeError",
     "evalue": "'NoneType' object is not iterable",
     "output_type": "error",
     "traceback": [
      "\u001b[0;31m---------------------------------------------------------------------------\u001b[0m",
      "\u001b[0;31mTypeError\u001b[0m                                 Traceback (most recent call last)",
      "\u001b[0;32m<ipython-input-597-47a033badd03>\u001b[0m in \u001b[0;36m<module>\u001b[0;34m()\u001b[0m\n\u001b[0;32m----> 1\u001b[0;31m \u001b[0;34m[\u001b[0m\u001b[0mimg1\u001b[0m\u001b[0;34m,\u001b[0m \u001b[0mlabel\u001b[0m\u001b[0;34m]\u001b[0m \u001b[0;34m=\u001b[0m \u001b[0mget_note\u001b[0m\u001b[0;34m(\u001b[0m\u001b[0;34m)\u001b[0m\u001b[0;34m\u001b[0m\u001b[0m\n\u001b[0m",
      "\u001b[0;31mTypeError\u001b[0m: 'NoneType' object is not iterable"
     ]
    }
   ],
   "source": [
    "[img1, label] = get_note()"
   ]
  },
  {
   "cell_type": "code",
   "execution_count": 583,
   "metadata": {
    "collapsed": true
   },
   "outputs": [],
   "source": [
    "def get_combination(last_digit, horizontal_offset = [-2,2], vertical_offset = [-1,1]):\n",
    "    #1 * 1/4, 2 * 1/8, 1 * 1/8 + 2 * 1/16,  2 * 1/16 + 1/8, 4 * 1/16 \n",
    "    index = random.randint(1,5)\n",
    "    if index == 1:\n",
    "        # 1 * 1/4\n",
    "        return get_note(last_digit=last_digit)\n",
    "    if index == 2:\n",
    "        # 2 * 1/8\n",
    "        \n",
    "    if index == 3:\n",
    "        #1 * 1/8 + 2 * 1/16\n",
    "        \n",
    "    if index == 4:\n",
    "        #2 * 1/16 + 1/8\n",
    "        \n",
    "    if index == 5:\n",
    "        #4 * 1/16\n",
    "        "
   ]
  },
  {
   "cell_type": "code",
   "execution_count": 595,
   "metadata": {},
   "outputs": [
    {
     "data": {
      "text/plain": [
       "5"
      ]
     },
     "execution_count": 595,
     "metadata": {},
     "output_type": "execute_result"
    }
   ],
   "source": [
    "random.randint(1,5)"
   ]
  },
  {
   "cell_type": "code",
   "execution_count": 12,
   "metadata": {
    "collapsed": true
   },
   "outputs": [],
   "source": [
    "(x_train, y_train), (x_test, y_test) = mnist.load_data()"
   ]
  },
  {
   "cell_type": "code",
   "execution_count": 168,
   "metadata": {},
   "outputs": [
    {
     "data": {
      "text/plain": [
       "<matplotlib.image.AxesImage at 0x183913aa90>"
      ]
     },
     "execution_count": 168,
     "metadata": {},
     "output_type": "execute_result"
    },
    {
     "data": {
      "image/png": "[encoded data removed]",
      "text/plain": [
       "<matplotlib.figure.Figure at 0x1839a3a7f0>"
      ]
     },
     "metadata": {},
     "output_type": "display_data"
    }
   ],
   "source": [
    "plt.imshow(x_train[10])"
   ]
  },
  {
   "cell_type": "code",
   "execution_count": 515,
   "metadata": {},
   "outputs": [
    {
     "name": "stdout",
     "output_type": "stream",
     "text": [
      "['11', '0', '-', '23', '|', '17', '0', '3', '7', '|', '1', '0', '27', '0', '|', '11', '-', '23', '6', '|']\n",
      "[1, 2, 1, 1, 1, 1, 1, 1, 1, 1, 1, 2, 1, 1]\n"
     ]
    },
    {
     "data": {
      "image/png": "[encoded data removed]",
      "text/plain": [
       "<matplotlib.figure.Figure at 0x183fe0dac8>"
      ]
     },
     "metadata": {},
     "output_type": "display_data"
    }
   ],
   "source": [
    "(x_train, y_train), (x_test, y_test) = mnist.load_data()\n",
    "canvas = np.zeros([64, 512])\n",
    "candidates = [1, 2]\n",
    "last_x = 5\n",
    "last_digit = -1\n",
    "count = 0\n",
    "note_labels = []\n",
    "note_lengths = []\n",
    "note_box = []\n",
    "remained_measure = 4\n",
    "remained_length_in_curr_measure = 4\n",
    "while remained_measure:\n",
    "    [note_img, note_label] = get_note(last_digit=last_digit)\n",
    "    note_labels.append(str(note_label))\n",
    "    vertical_offset = random.randint(-1,1)\n",
    "    horizontal_offset = random.randint(0,3)\n",
    "    box = [11 + vertical_offset, 47 + vertical_offset, last_x + horizontal_offset, last_x + horizontal_offset + 28]\n",
    "    canvas[box[0]:box[1], box[2]:box[3]] = note_img\n",
    "    note_box.append(box)\n",
    "    last_x += horizontal_offset + 28\n",
    "    last_digit = note_label\n",
    "    remained_length_in_curr_measure -=1\n",
    "    if remained_length_in_curr_measure == 0:\n",
    "        measure_note = get_measure_note()\n",
    "        vertical_offset = random.randint(7,10)\n",
    "        box = [vertical_offset,vertical_offset + measure_note.shape[0],last_x, last_x+measure_note.shape[1]]\n",
    "        canvas[box[0]:box[1], box[2]:box[3]] = measure_note\n",
    "        note_box.append(box)\n",
    "        last_x += measure_note.shape[1]\n",
    "        remained_measure -= 1\n",
    "        note_labels.append('|')\n",
    "        remained_length_in_curr_measure = 4\n",
    "    elif remained_length_in_curr_measure > 1:\n",
    "        if random.randint(0,1) == 1:\n",
    "            rest_bar = get_rest_bar()\n",
    "            vertical_offset = 20\n",
    "            box = [vertical_offset,vertical_offset + rest_bar.shape[0],last_x, last_x+rest_bar.shape[1]]\n",
    "            canvas[box[0]:box[1], box[2]:box[3]] = rest_bar\n",
    "            note_box.append(box)\n",
    "            note_labels.append('-')\n",
    "            last_x += rest_bar.shape[1]\n",
    "            remained_length_in_curr_measure -= 1\n",
    "            note_lengths.append(2)\n",
    "            continue\n",
    "    note_lengths.append(1)\n",
    "plt.imshow(canvas)\n",
    "print(note_labels)\n",
    "print(note_lengths)"
   ]
  },
  {
   "cell_type": "code",
   "execution_count": 291,
   "metadata": {
    "collapsed": true
   },
   "outputs": [],
   "source": [
    "def draw_box(canvas, box):\n",
    "    print(box)\n",
    "    canvas[box[0]:box[1],box[2]:box[2] + 1] = 255\n",
    "    canvas[box[0]:box[1],box[3]:box[3] + 1] = 255\n",
    "    canvas[box[0]:box[0] + 1,box[2]:box[3]] = 255\n",
    "    canvas[box[1]:box[1] + 1,box[2]:box[3]] = 255\n",
    "    plt.imshow(canvas)"
   ]
  },
  {
   "cell_type": "code",
   "execution_count": 507,
   "metadata": {},
   "outputs": [
    {
     "name": "stdout",
     "output_type": "stream",
     "text": [
      "[10, 46, 221, 249]\n"
     ]
    },
    {
     "data": {
      "image/png": "[encoded data removed]",
      "text/plain": [
       "<matplotlib.figure.Figure at 0x182849c828>"
      ]
     },
     "metadata": {},
     "output_type": "display_data"
    }
   ],
   "source": [
    "draw_box(canvas,note_box[10])"
   ]
  }
 ],
 "metadata": {
  "kernelspec": {
   "display_name": "Python 3",
   "language": "python",
   "name": "python3"
  },
  "language_info": {
   "codemirror_mode": {
    "name": "ipython",
    "version": 3
   },
   "file_extension": ".py",
   "mimetype": "text/x-python",
   "name": "python",
   "nbconvert_exporter": "python",
   "pygments_lexer": "ipython3",
   "version": "3.6.3"
  }
 },
 "nbformat": 4,
 "nbformat_minor": 2
}
